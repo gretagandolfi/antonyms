{
 "cells": [
  {
   "cell_type": "markdown",
   "metadata": {},
   "source": [
    "# Antonyms "
   ]
  },
  {
   "cell_type": "markdown",
   "metadata": {},
   "source": [
    "## 1. List fo Antonyms \n",
    "Here I create a list of antonyms starting form WordNet data. "
   ]
  },
  {
   "cell_type": "code",
   "execution_count": 1,
   "metadata": {},
   "outputs": [],
   "source": [
    "list_of_antonyms=[]\n",
    "from nltk.corpus import wordnet as wn\n",
    "for i in wn.all_synsets():\n",
    "    if i.pos() in ['a', 's']: \n",
    "        for j in i.lemmas(): \n",
    "            if j.antonyms(): \n",
    "                (j.name(), j.antonyms()[0].name()) and list_of_antonyms.append((j.name(), j.antonyms()[0].name()))\n"
   ]
  },
  {
   "cell_type": "code",
   "execution_count": 2,
   "metadata": {},
   "outputs": [
    {
     "data": {
      "text/plain": [
       "[('able', 'unable'),\n",
       " ('unable', 'able'),\n",
       " ('abaxial', 'adaxial'),\n",
       " ('adaxial', 'abaxial'),\n",
       " ('acroscopic', 'basiscopic'),\n",
       " ('basiscopic', 'acroscopic'),\n",
       " ('abducent', 'adducent'),\n",
       " ('adducent', 'abducent'),\n",
       " ('nascent', 'dying'),\n",
       " ('dying', 'nascent'),\n",
       " ('abridged', 'unabridged'),\n",
       " ('unabridged', 'abridged'),\n",
       " ('absolute', 'relative'),\n",
       " ('relative', 'absolute'),\n",
       " ('absorbent', 'nonabsorbent'),\n",
       " ('nonabsorbent', 'absorbent'),\n",
       " ('adsorbent', 'nonadsorbent'),\n",
       " ('nonadsorbent', 'adsorbent'),\n",
       " ('absorbable', 'adsorbable'),\n",
       " ('adsorbable', 'absorbable'),\n",
       " ('abstemious', 'gluttonous'),\n",
       " ('gluttonous', 'abstemious'),\n",
       " ('abstract', 'concrete'),\n",
       " ('concrete', 'abstract'),\n",
       " ('abundant', 'scarce'),\n",
       " ('scarce', 'abundant'),\n",
       " ('abused', 'unabused'),\n",
       " ('unabused', 'abused'),\n",
       " ('acceptable', 'unacceptable'),\n",
       " ('unacceptable', 'acceptable'),\n",
       " ('accessible', 'inaccessible'),\n",
       " ('inaccessible', 'accessible'),\n",
       " ('accommodating', 'unaccommodating'),\n",
       " ('unaccommodating', 'accommodating'),\n",
       " ('accurate', 'inaccurate'),\n",
       " ('inaccurate', 'accurate'),\n",
       " ('accustomed', 'unaccustomed'),\n",
       " ('unaccustomed', 'accustomed'),\n",
       " ('acidic', 'alkaline'),\n",
       " ('alkaline', 'amphoteric'),\n",
       " ('amphoteric', 'acidic'),\n",
       " ('acid-loving', 'alkaline-loving'),\n",
       " ('alkaline-loving', 'acid-loving'),\n",
       " ('acknowledged', 'unacknowledged'),\n",
       " ('unacknowledged', 'acknowledged'),\n",
       " ('acquisitive', 'unacquisitive'),\n",
       " ('unacquisitive', 'acquisitive'),\n",
       " ('acropetal', 'basipetal'),\n",
       " ('basipetal', 'acropetal'),\n",
       " ('active', 'inactive'),\n",
       " ('inactive', 'active'),\n",
       " ('active', 'inactive'),\n",
       " ('inactive', 'active'),\n",
       " ('active', 'inactive'),\n",
       " ('inactive', 'active'),\n",
       " ('active', 'inactive'),\n",
       " ('inactive', 'active'),\n",
       " ('active', 'passive'),\n",
       " ('passive', 'active'),\n",
       " ('active', 'dormant'),\n",
       " ('dormant', 'active'),\n",
       " ('extinct', 'active'),\n",
       " ('active', 'extinct'),\n",
       " ('active', 'stative'),\n",
       " ('stative', 'active'),\n",
       " ('active', 'passive'),\n",
       " ('passive', 'active'),\n",
       " ('active', 'inactive'),\n",
       " ('inactive', 'active'),\n",
       " ('active', 'quiet'),\n",
       " ('quiet', 'active'),\n",
       " ('actual', 'potential'),\n",
       " ('potential', 'actual'),\n",
       " ('acute', 'chronic'),\n",
       " ('chronic', 'acute'),\n",
       " ('virulent', 'avirulent'),\n",
       " ('avirulent', 'virulent'),\n",
       " ('adaptive', 'maladaptive'),\n",
       " ('maladaptive', 'adaptive'),\n",
       " ('addicted', 'unaddicted'),\n",
       " ('unaddicted', 'addicted'),\n",
       " ('addictive', 'nonaddictive'),\n",
       " ('nonaddictive', 'addictive'),\n",
       " ('additive', 'subtractive'),\n",
       " ('subtractive', 'additive'),\n",
       " ('addressed', 'unaddressed'),\n",
       " ('unaddressed', 'addressed'),\n",
       " ('adequate', 'inadequate'),\n",
       " ('inadequate', 'adequate'),\n",
       " ('adhesive', 'nonadhesive'),\n",
       " ('nonadhesive', 'adhesive'),\n",
       " ('adjective', 'substantive'),\n",
       " ('substantive', 'adjective'),\n",
       " ('adoptable', 'unadoptable'),\n",
       " ('unadoptable', 'adoptable'),\n",
       " ('adorned', 'unadorned'),\n",
       " ('unadorned', 'adorned'),\n",
       " ('cholinergic', 'anticholinergic'),\n",
       " ('anticholinergic', 'cholinergic'),\n",
       " ('adroit', 'maladroit'),\n",
       " ('maladroit', 'adroit'),\n",
       " ('advantageous', 'disadvantageous'),\n",
       " ('disadvantageous', 'advantageous'),\n",
       " ('adventurous', 'unadventurous'),\n",
       " ('unadventurous', 'adventurous'),\n",
       " ('advisable', 'inadvisable'),\n",
       " ('inadvisable', 'advisable'),\n",
       " ('well-advised', 'ill-advised'),\n",
       " ('ill-advised', 'well-advised'),\n",
       " ('aerobic', 'anaerobic'),\n",
       " ('anaerobic', 'aerobic'),\n",
       " ('aerobic', 'anaerobic'),\n",
       " ('anaerobic', 'aerobic'),\n",
       " ('aesthetic', 'inaesthetic'),\n",
       " ('inaesthetic', 'aesthetic'),\n",
       " ('affected', 'unaffected'),\n",
       " ('unaffected', 'affected'),\n",
       " ('affected', 'unaffected'),\n",
       " ('unaffected', 'affected'),\n",
       " ('affirmative', 'negative'),\n",
       " ('negative', 'affirmative'),\n",
       " ('acceptive', 'rejective'),\n",
       " ('rejective', 'acceptive'),\n",
       " ('afloat', 'aground'),\n",
       " ('aground', 'afloat'),\n",
       " ('afraid', 'unafraid'),\n",
       " ('unafraid', 'afraid'),\n",
       " ('aggressive', 'unaggressive'),\n",
       " ('unaggressive', 'aggressive'),\n",
       " ('agitated', 'unagitated'),\n",
       " ('unagitated', 'agitated'),\n",
       " ('agitated', 'unagitated'),\n",
       " ('unagitated', 'agitated'),\n",
       " ('agreeable', 'disagreeable'),\n",
       " ('disagreeable', 'agreeable'),\n",
       " ('air-to-surface', 'air-to-air'),\n",
       " ('air-to-air', 'surface-to-air'),\n",
       " ('surface-to-air', 'air-to-surface'),\n",
       " ('alert', 'unalert'),\n",
       " ('unalert', 'alert'),\n",
       " ('algorithmic', 'heuristic'),\n",
       " ('heuristic', 'algorithmic'),\n",
       " ('alienable', 'inalienable'),\n",
       " ('inalienable', 'alienable'),\n",
       " ('alive', 'dead'),\n",
       " ('dead', 'alive'),\n",
       " ('apocrine', 'eccrine'),\n",
       " ('eccrine', 'apocrine'),\n",
       " ('artesian', 'subartesian'),\n",
       " ('subartesian', 'artesian'),\n",
       " ('live', 'dead'),\n",
       " ('dead', 'live'),\n",
       " ('alphabetic', 'analphabetic'),\n",
       " ('analphabetic', 'alphabetic'),\n",
       " ('altricial', 'precocial'),\n",
       " ('precocial', 'altricial'),\n",
       " ('altruistic', 'egoistic'),\n",
       " ('egoistic', 'altruistic'),\n",
       " ('ambiguous', 'unambiguous'),\n",
       " ('unambiguous', 'ambiguous'),\n",
       " ('ambitious', 'unambitious'),\n",
       " ('unambitious', 'ambitious'),\n",
       " ('ametropic', 'emmetropic'),\n",
       " ('emmetropic', 'ametropic'),\n",
       " ('ample', 'meager'),\n",
       " ('meager', 'ample'),\n",
       " ('anabolic', 'catabolic'),\n",
       " ('catabolic', 'anabolic'),\n",
       " ('anaclinal', 'cataclinal'),\n",
       " ('cataclinal', 'anaclinal'),\n",
       " ('anastigmatic', 'astigmatic'),\n",
       " ('astigmatic', 'anastigmatic'),\n",
       " ('anticlinal', 'synclinal'),\n",
       " ('synclinal', 'anticlinal'),\n",
       " ('anadromous', 'catadromous'),\n",
       " ('catadromous', 'diadromous'),\n",
       " ('diadromous', 'anadromous'),\n",
       " ('anabatic', 'katabatic'),\n",
       " ('katabatic', 'anabatic'),\n",
       " ('anal', 'oral'),\n",
       " ('oral', 'anal'),\n",
       " ('analogue', 'digital'),\n",
       " ('digital', 'analogue'),\n",
       " ('analytic', 'synthetic'),\n",
       " ('synthetic', 'analytic'),\n",
       " ('analytic', 'synthetic'),\n",
       " ('synthetic', 'analytic'),\n",
       " ('analytic', 'synthetic'),\n",
       " ('synthetic', 'analytic'),\n",
       " ('inflectional', 'derivational'),\n",
       " ('derivational', 'inflectional'),\n",
       " ('apocarpous', 'syncarpous'),\n",
       " ('syncarpous', 'apocarpous'),\n",
       " ('angry', 'unangry'),\n",
       " ('unangry', 'angry'),\n",
       " ('resentful', 'unresentful'),\n",
       " ('unresentful', 'resentful'),\n",
       " ('sentient', 'insentient'),\n",
       " ('insentient', 'sentient'),\n",
       " ('animate', 'inanimate'),\n",
       " ('inanimate', 'animate'),\n",
       " ('animated', 'unanimated'),\n",
       " ('unanimated', 'animated'),\n",
       " ('enlivened', 'unenlivened'),\n",
       " ('unenlivened', 'enlivened'),\n",
       " ('animate', 'inanimate'),\n",
       " ('inanimate', 'animate'),\n",
       " ('anonymous', 'onymous'),\n",
       " ('onymous', 'anonymous'),\n",
       " ('antemortem', 'postmortem'),\n",
       " ('postmortem', 'antemortem'),\n",
       " ('antecedent', 'subsequent'),\n",
       " ('subsequent', 'antecedent'),\n",
       " ('antrorse', 'retrorse'),\n",
       " ('retrorse', 'antrorse'),\n",
       " ('aquatic', 'terrestrial'),\n",
       " ('terrestrial', 'amphibious'),\n",
       " ('amphibious', 'aquatic'),\n",
       " ('preceding', 'succeeding'),\n",
       " ('succeeding', 'preceding'),\n",
       " ('precedented', 'unprecedented'),\n",
       " ('unprecedented', 'precedented'),\n",
       " ('prehensile', 'nonprehensile'),\n",
       " ('nonprehensile', 'prehensile'),\n",
       " ('prenatal', 'perinatal'),\n",
       " ('perinatal', 'postnatal'),\n",
       " ('postnatal', 'prenatal'),\n",
       " ('preprandial', 'postprandial'),\n",
       " ('postprandial', 'preprandial'),\n",
       " ('prewar', 'postwar'),\n",
       " ('postwar', 'prewar'),\n",
       " ('retrograde', 'anterograde'),\n",
       " ('anterograde', 'retrograde'),\n",
       " ('antemeridian', 'postmeridian'),\n",
       " ('postmeridian', 'antemeridian'),\n",
       " ('anterior', 'posterior'),\n",
       " ('posterior', 'anterior'),\n",
       " ('dorsal', 'ventral'),\n",
       " ('ventral', 'dorsal'),\n",
       " ('appealable', 'unappealable'),\n",
       " ('unappealable', 'appealable'),\n",
       " ('appendaged', 'unappendaged'),\n",
       " ('unappendaged', 'appendaged'),\n",
       " ('appetizing', 'unappetizing'),\n",
       " ('unappetizing', 'appetizing'),\n",
       " ('approachable', 'unapproachable'),\n",
       " ('unapproachable', 'approachable'),\n",
       " ('appropriate', 'inappropriate'),\n",
       " ('inappropriate', 'appropriate'),\n",
       " ('due', 'undue'),\n",
       " ('undue', 'due'),\n",
       " ('due', 'undue'),\n",
       " ('undue', 'due'),\n",
       " ('apropos', 'malapropos'),\n",
       " ('malapropos', 'apropos'),\n",
       " ('a_priori', 'a_posteriori'),\n",
       " ('a_posteriori', 'a_priori'),\n",
       " ('apteral', 'peripteral'),\n",
       " ('peripteral', 'apteral'),\n",
       " ('arbitrable', 'nonarbitrable'),\n",
       " ('nonarbitrable', 'arbitrable'),\n",
       " ('columned', 'noncolumned'),\n",
       " ('noncolumned', 'columned'),\n",
       " ('arboreal', 'nonarboreal'),\n",
       " ('nonarboreal', 'arboreal'),\n",
       " ('arenaceous', 'argillaceous'),\n",
       " ('argillaceous', 'arenaceous'),\n",
       " ('armed', 'unarmed'),\n",
       " ('unarmed', 'armed'),\n",
       " ('armored', 'unarmored'),\n",
       " ('unarmored', 'armored'),\n",
       " ('armed', 'unarmed'),\n",
       " ('unarmed', 'armed'),\n",
       " ('armed', 'armless'),\n",
       " ('armless', 'armed'),\n",
       " ('armored', 'unarmored'),\n",
       " ('unarmored', 'armored'),\n",
       " ('artful', 'artless'),\n",
       " ('artless', 'artful'),\n",
       " ('articulate', 'inarticulate'),\n",
       " ('inarticulate', 'articulate'),\n",
       " ('speaking', 'nonspeaking'),\n",
       " ('nonspeaking', 'speaking'),\n",
       " ('articulated', 'unarticulated'),\n",
       " ('unarticulated', 'articulated'),\n",
       " ('ashamed', 'unashamed'),\n",
       " ('unashamed', 'ashamed'),\n",
       " ('assertive', 'unassertive'),\n",
       " ('unassertive', 'assertive'),\n",
       " ('associative', 'nonassociative'),\n",
       " ('nonassociative', 'associative'),\n",
       " ('attached', 'unattached'),\n",
       " ('unattached', 'attached'),\n",
       " ('affixed', 'unaffixed'),\n",
       " ('unaffixed', 'affixed'),\n",
       " ('sessile', 'pedunculate'),\n",
       " ('pedunculate', 'sessile'),\n",
       " ('sessile', 'vagile'),\n",
       " ('vagile', 'sessile'),\n",
       " ('attached', 'detached'),\n",
       " ('detached', 'attached'),\n",
       " ('stuck', 'unstuck'),\n",
       " ('unstuck', 'stuck'),\n",
       " ('attachable', 'detachable'),\n",
       " ('detachable', 'attachable'),\n",
       " ('wary', 'unwary'),\n",
       " ('unwary', 'wary'),\n",
       " ('attentive', 'inattentive'),\n",
       " ('inattentive', 'attentive'),\n",
       " ('attractive', 'unattractive'),\n",
       " ('unattractive', 'attractive'),\n",
       " ('attractive', 'repulsive'),\n",
       " ('repulsive', 'attractive'),\n",
       " ('appealing', 'unappealing'),\n",
       " ('unappealing', 'appealing'),\n",
       " ('attributable', 'unattributable'),\n",
       " ('unattributable', 'attributable'),\n",
       " ('attributive', 'predicative'),\n",
       " ('predicative', 'attributive'),\n",
       " ('pregnant', 'nonpregnant'),\n",
       " ('nonpregnant', 'pregnant'),\n",
       " ('audible', 'inaudible'),\n",
       " ('inaudible', 'audible'),\n",
       " ('sonic', 'subsonic'),\n",
       " ('subsonic', 'supersonic'),\n",
       " ('supersonic', 'sonic'),\n",
       " ('auspicious', 'inauspicious'),\n",
       " ('inauspicious', 'auspicious'),\n",
       " ('propitious', 'unpropitious'),\n",
       " ('unpropitious', 'propitious'),\n",
       " ('authorized', 'unauthorized'),\n",
       " ('unauthorized', 'authorized'),\n",
       " ('constitutional', 'unconstitutional'),\n",
       " ('unconstitutional', 'constitutional'),\n",
       " ('autochthonous', 'allochthonous'),\n",
       " ('allochthonous', 'autochthonous'),\n",
       " ('autoecious', 'heteroecious'),\n",
       " ('heteroecious', 'autoecious'),\n",
       " ('autogenous', 'heterogenous'),\n",
       " ('heterogenous', 'autogenous'),\n",
       " ('automatic', 'manual'),\n",
       " ('manual', 'automatic'),\n",
       " ('available', 'unavailable'),\n",
       " ('unavailable', 'available'),\n",
       " ('awake', 'asleep'),\n",
       " ('asleep', 'awake'),\n",
       " ('astringent', 'nonastringent'),\n",
       " ('nonastringent', 'astringent'),\n",
       " ('aware', 'unaware'),\n",
       " ('unaware', 'aware'),\n",
       " ('witting', 'unwitting'),\n",
       " ('unwitting', 'witting'),\n",
       " ('alarming', 'unalarming'),\n",
       " ('unalarming', 'alarming'),\n",
       " ('anemophilous', 'entomophilous'),\n",
       " ('entomophilous', 'anemophilous'),\n",
       " ('reassuring', 'unreassuring'),\n",
       " ('unreassuring', 'reassuring'),\n",
       " ('back', 'front'),\n",
       " ('front', 'back'),\n",
       " ('leading', 'following'),\n",
       " ('following', 'leading'),\n",
       " ('backed', 'backless'),\n",
       " ('backless', 'backed'),\n",
       " ('backward', 'forward'),\n",
       " ('forward', 'backward'),\n",
       " ('forward', 'reverse'),\n",
       " ('reverse', 'forward'),\n",
       " ('backward', 'forward'),\n",
       " ('forward', 'backward'),\n",
       " ('balconied', 'unbalconied'),\n",
       " ('unbalconied', 'balconied'),\n",
       " ('barreled', 'unbarreled'),\n",
       " ('unbarreled', 'barreled'),\n",
       " ('beaked', 'beakless'),\n",
       " ('beakless', 'beaked'),\n",
       " ('bedded', 'bedless'),\n",
       " ('bedless', 'bedded'),\n",
       " ('beneficed', 'unbeneficed'),\n",
       " ('unbeneficed', 'beneficed'),\n",
       " ('stratified', 'unstratified'),\n",
       " ('unstratified', 'stratified'),\n",
       " ('ferned', 'fernless'),\n",
       " ('fernless', 'ferned'),\n",
       " ('grassy', 'grassless'),\n",
       " ('grassless', 'grassy'),\n",
       " ('gusseted', 'ungusseted'),\n",
       " ('ungusseted', 'gusseted'),\n",
       " ('hairless', 'hairy'),\n",
       " ('hairy', 'hairless'),\n",
       " ('awned', 'awnless'),\n",
       " ('awnless', 'awned'),\n",
       " ('bearing', 'nonbearing'),\n",
       " ('nonbearing', 'bearing'),\n",
       " ('beautiful', 'ugly'),\n",
       " ('ugly', 'beautiful'),\n",
       " ('bellied', 'bellyless'),\n",
       " ('bellyless', 'bellied'),\n",
       " ('banded', 'unbanded'),\n",
       " ('unbanded', 'banded'),\n",
       " ('belted', 'unbelted'),\n",
       " ('unbelted', 'belted'),\n",
       " ('beneficent', 'maleficent'),\n",
       " ('maleficent', 'beneficent'),\n",
       " ('malicious', 'unmalicious'),\n",
       " ('unmalicious', 'malicious'),\n",
       " ('benign', 'malign'),\n",
       " ('malign', 'benign'),\n",
       " ('best', 'worst'),\n",
       " ('worst', 'best'),\n",
       " ('better', 'worse'),\n",
       " ('worse', 'better'),\n",
       " ('better', 'worse'),\n",
       " ('worse', 'better'),\n",
       " ('bettering', 'worsening'),\n",
       " ('worsening', 'bettering'),\n",
       " ('bicameral', 'unicameral'),\n",
       " ('unicameral', 'bicameral'),\n",
       " ('bidirectional', 'unidirectional'),\n",
       " ('unidirectional', 'bidirectional'),\n",
       " ('faced', 'faceless'),\n",
       " ('faceless', 'faced'),\n",
       " ('bibbed', 'bibless'),\n",
       " ('bibless', 'bibbed'),\n",
       " ('unilateral', 'multilateral'),\n",
       " ('multilateral', 'unilateral'),\n",
       " ('bimodal', 'unimodal'),\n",
       " ('unimodal', 'bimodal'),\n",
       " ('binaural', 'monaural'),\n",
       " ('monaural', 'binaural'),\n",
       " ('binucleate', 'trinucleate'),\n",
       " ('mononuclear', 'binucleate'),\n",
       " ('trinucleate', 'mononuclear'),\n",
       " ('bipedal', 'quadrupedal'),\n",
       " ('biped', 'quadruped'),\n",
       " ('quadrupedal', 'bipedal'),\n",
       " ('quadruped', 'biped'),\n",
       " ('black', 'white'),\n",
       " ('white', 'black'),\n",
       " ('blond', 'brunet'),\n",
       " ('brunet', 'blond'),\n",
       " ('blemished', 'unblemished'),\n",
       " ('unblemished', 'blemished'),\n",
       " ('bloody', 'bloodless'),\n",
       " ('bloodless', 'bloody'),\n",
       " ('bold', 'timid'),\n",
       " ('timid', 'bold'),\n",
       " ('bound', 'unbound'),\n",
       " ('unbound', 'bound'),\n",
       " ('laced', 'unlaced'),\n",
       " ('unlaced', 'laced'),\n",
       " ('tied', 'untied'),\n",
       " ('untied', 'tied'),\n",
       " ('tangled', 'untangled'),\n",
       " ('untangled', 'tangled'),\n",
       " ('bound', 'unbound'),\n",
       " ('unbound', 'bound'),\n",
       " ('bordered', 'unbordered'),\n",
       " ('unbordered', 'bordered'),\n",
       " ('lotic', 'lentic'),\n",
       " ('lentic', 'lotic'),\n",
       " ('lower-class', 'middle-class'),\n",
       " ('middle-class', 'upper-class'),\n",
       " ('upper-class', 'lower-class'),\n",
       " ('brachycephalic', 'dolichocephalic'),\n",
       " ('dolichocephalic', 'brachycephalic'),\n",
       " ('brave', 'cowardly'),\n",
       " ('cowardly', 'brave'),\n",
       " ('gutsy', 'gutless'),\n",
       " ('gutless', 'gutsy'),\n",
       " ('breast-fed', 'bottle-fed'),\n",
       " ('bottle-fed', 'breast-fed'),\n",
       " ('breathing', 'breathless'),\n",
       " ('breathless', 'breathing'),\n",
       " ('crystalline', 'noncrystalline'),\n",
       " ('noncrystalline', 'crystalline'),\n",
       " ('landed', 'landless'),\n",
       " ('landless', 'landed'),\n",
       " ('light', 'dark'),\n",
       " ('dark', 'light'),\n",
       " ('shaded', 'unshaded'),\n",
       " ('unshaded', 'shaded'),\n",
       " ('shaded', 'unshaded'),\n",
       " ('unshaded', 'shaded'),\n",
       " ('moonlit', 'moonless'),\n",
       " ('moonless', 'moonlit'),\n",
       " ('bridgeable', 'unbridgeable'),\n",
       " ('unbridgeable', 'bridgeable'),\n",
       " ('bright', 'dull'),\n",
       " ('dull', 'bright'),\n",
       " ('dimmed', 'undimmed'),\n",
       " ('undimmed', 'dimmed'),\n",
       " ('prejudiced', 'unprejudiced'),\n",
       " ('unprejudiced', 'prejudiced'),\n",
       " ('broad-minded', 'narrow-minded'),\n",
       " ('narrow-minded', 'broad-minded'),\n",
       " ('reconstructed', 'unreconstructed'),\n",
       " ('unreconstructed', 'reconstructed'),\n",
       " ('broken', 'unbroken'),\n",
       " ('unbroken', 'broken'),\n",
       " ('broken', 'unbroken'),\n",
       " ('unbroken', 'broken'),\n",
       " ('broken', 'unbroken'),\n",
       " ('unbroken', 'broken'),\n",
       " ('brotherly', 'sisterly'),\n",
       " ('sisterly', 'brotherly'),\n",
       " ('exergonic', 'endergonic'),\n",
       " ('endergonic', 'exergonic'),\n",
       " ('fraternal', 'identical'),\n",
       " ('identical', 'fraternal'),\n",
       " ('buried', 'unburied'),\n",
       " ('unburied', 'buried'),\n",
       " ('busy', 'idle'),\n",
       " ('idle', 'busy'),\n",
       " ('bony', 'boneless'),\n",
       " ('boneless', 'bony'),\n",
       " ('buttoned', 'unbuttoned'),\n",
       " ('unbuttoned', 'buttoned'),\n",
       " ('capitalistic', 'socialistic'),\n",
       " ('socialistic', 'capitalistic'),\n",
       " ('cacophonous', 'euphonious'),\n",
       " ('euphonious', 'cacophonous'),\n",
       " ('calculable', 'incalculable'),\n",
       " ('incalculable', 'calculable'),\n",
       " ('calm', 'stormy'),\n",
       " ('stormy', 'calm'),\n",
       " ('camphorated', 'uncamphorated'),\n",
       " ('uncamphorated', 'camphorated'),\n",
       " ('capable', 'incapable'),\n",
       " ('incapable', 'capable'),\n",
       " ('capable', 'incapable'),\n",
       " ('incapable', 'capable'),\n",
       " ('cared-for', 'uncared-for'),\n",
       " ('uncared-for', 'cared-for'),\n",
       " ('careful', 'careless'),\n",
       " ('careless', 'careful'),\n",
       " ('carnivorous', 'herbivorous'),\n",
       " ('herbivorous', 'omnivorous'),\n",
       " ('omnivorous', 'insectivorous'),\n",
       " ('insectivorous', 'carnivorous'),\n",
       " ('holozoic', 'holophytic'),\n",
       " ('holophytic', 'holozoic'),\n",
       " ('carpellate', 'acarpelous'),\n",
       " ('acarpelous', 'carpellate'),\n",
       " ('carpeted', 'uncarpeted'),\n",
       " ('uncarpeted', 'carpeted'),\n",
       " ('carvel-built', 'clinker-built'),\n",
       " ('clinker-built', 'carvel-built'),\n",
       " ('carved', 'uncarved'),\n",
       " ('uncarved', 'carved'),\n",
       " ('acatalectic', 'catalectic'),\n",
       " ('catalectic', 'hypercatalectic'),\n",
       " ('hypercatalectic', 'acatalectic'),\n",
       " ('cauline', 'radical'),\n",
       " ('radical', 'cauline'),\n",
       " ('censored', 'uncensored'),\n",
       " ('uncensored', 'censored'),\n",
       " ('caudate', 'acaudate'),\n",
       " ('acaudate', 'caudate'),\n",
       " ('caulescent', 'acaulescent'),\n",
       " ('acaulescent', 'caulescent'),\n",
       " ('causative', 'noncausative'),\n",
       " ('noncausative', 'causative'),\n",
       " ('cautious', 'incautious'),\n",
       " ('incautious', 'cautious'),\n",
       " ('cellular', 'noncellular'),\n",
       " ('noncellular', 'cellular'),\n",
       " ('coherent', 'incoherent'),\n",
       " ('incoherent', 'coherent'),\n",
       " ('compartmented', 'uncompartmented'),\n",
       " ('uncompartmented', 'compartmented'),\n",
       " ('porous', 'nonporous'),\n",
       " ('nonporous', 'porous'),\n",
       " ('central', 'peripheral'),\n",
       " ('peripheral', 'central'),\n",
       " ('centrifugal', 'centripetal'),\n",
       " ('centripetal', 'centrifugal'),\n",
       " ('afferent', 'efferent'),\n",
       " ('efferent', 'afferent'),\n",
       " ('centralizing', 'decentralizing'),\n",
       " ('decentralizing', 'centralizing'),\n",
       " ('certain', 'uncertain'),\n",
       " ('uncertain', 'certain'),\n",
       " ('certain', 'uncertain'),\n",
       " ('sure', 'unsure'),\n",
       " ('uncertain', 'certain'),\n",
       " ('unsure', 'sure'),\n",
       " ('convinced', 'unconvinced'),\n",
       " ('unconvinced', 'convinced'),\n",
       " ('confident', 'diffident'),\n",
       " ('diffident', 'confident'),\n",
       " ('certain', 'uncertain'),\n",
       " ('uncertain', 'certain'),\n",
       " ('certified', 'uncertified'),\n",
       " ('uncertified', 'certified'),\n",
       " ('inevitable', 'evitable'),\n",
       " ('evitable', 'inevitable'),\n",
       " ('preventable', 'unpreventable'),\n",
       " ('unpreventable', 'preventable'),\n",
       " ('changeable', 'unchangeable'),\n",
       " ('unchangeable', 'changeable'),\n",
       " ('commutable', 'incommutable'),\n",
       " ('incommutable', 'commutable'),\n",
       " ('alterable', 'unalterable'),\n",
       " ('unalterable', 'alterable'),\n",
       " ('modifiable', 'unmodifiable'),\n",
       " ('unmodifiable', 'modifiable'),\n",
       " ('adjusted', 'unadjusted'),\n",
       " ('unadjusted', 'adjusted'),\n",
       " ('adjusted', 'maladjusted'),\n",
       " ('maladjusted', 'adjusted'),\n",
       " ('altered', 'unaltered'),\n",
       " ('unaltered', 'altered'),\n",
       " ('amended', 'unamended'),\n",
       " ('unamended', 'amended'),\n",
       " ('changed', 'unchanged'),\n",
       " ('unchanged', 'changed'),\n",
       " ('isometric', 'isotonic'),\n",
       " ('isotonic', 'isometric'),\n",
       " ('ionized', 'nonionized'),\n",
       " ('nonionized', 'ionized'),\n",
       " ('mutable', 'immutable'),\n",
       " ('immutable', 'mutable'),\n",
       " ('characteristic', 'uncharacteristic'),\n",
       " ('uncharacteristic', 'characteristic'),\n",
       " ('charged', 'uncharged'),\n",
       " ('uncharged', 'charged'),\n",
       " ('charitable', 'uncharitable'),\n",
       " ('uncharitable', 'charitable'),\n",
       " ('chartered', 'unchartered'),\n",
       " ('unchartered', 'chartered'),\n",
       " ('owned', 'unowned'),\n",
       " ('unowned', 'owned'),\n",
       " ('chaste', 'unchaste'),\n",
       " ('unchaste', 'chaste'),\n",
       " ('cheerful', 'depressing'),\n",
       " ('depressing', 'cheerful'),\n",
       " ('chlamydeous', 'achlamydeous'),\n",
       " ('achlamydeous', 'chlamydeous'),\n",
       " ('chondritic', 'achondritic'),\n",
       " ('achondritic', 'chondritic'),\n",
       " ('monoclinic', 'triclinic'),\n",
       " ('triclinic', 'monoclinic'),\n",
       " ('monochromatic', 'polychromatic'),\n",
       " ('polychromatic', 'monochromatic'),\n",
       " ('chromatic', 'achromatic'),\n",
       " ('achromatic', 'chromatic'),\n",
       " ('black', 'white'),\n",
       " ('white', 'black'),\n",
       " ('saturated', 'unsaturated'),\n",
       " ('unsaturated', 'saturated'),\n",
       " ('color', 'black-and-white'),\n",
       " ('black-and-white', 'color'),\n",
       " ('colored', 'uncolored'),\n",
       " ('uncolored', 'colored'),\n",
       " ('stained', 'unstained'),\n",
       " ('unstained', 'stained'),\n",
       " ('colorful', 'colorless'),\n",
       " ('colorless', 'colorful'),\n",
       " ('colorful', 'colorless'),\n",
       " ('colourful', 'colourless'),\n",
       " ('colorless', 'colorful'),\n",
       " ('colourless', 'colourful'),\n",
       " ('light', 'dark'),\n",
       " ('dark', 'light'),\n",
       " ('chromatic', 'diatonic'),\n",
       " ('diatonic', 'chromatic'),\n",
       " ('cismontane', 'tramontane'),\n",
       " ('tramontane', 'cismontane'),\n",
       " ('christian', 'unchristian'),\n",
       " ('unchristian', 'christian'),\n",
       " ('civilized', 'noncivilized'),\n",
       " ('noncivilized', 'civilized'),\n",
       " ('classical', 'nonclassical'),\n",
       " ('nonclassical', 'classical'),\n",
       " ('classified', 'unclassified'),\n",
       " ('unclassified', 'classified'),\n",
       " ('classified', 'unclassified'),\n",
       " ('unclassified', 'classified'),\n",
       " ('analyzed', 'unanalyzed'),\n",
       " ('unanalyzed', 'analyzed'),\n",
       " ('clean', 'dirty'),\n",
       " ('dirty', 'clean'),\n",
       " ('clean', 'dirty'),\n",
       " ('dirty', 'clean'),\n",
       " ('clean', 'dirty'),\n",
       " ('dirty', 'clean'),\n",
       " ('radioactive', 'nonradioactive'),\n",
       " ('nonradioactive', 'radioactive'),\n",
       " ('clean', 'unclean'),\n",
       " ('unclean', 'clean'),\n",
       " ('clear', 'unclear'),\n",
       " ('unclear', 'clear'),\n",
       " ('clear', 'opaque'),\n",
       " ('opaque', 'clear'),\n",
       " ('radiolucent', 'radiopaque'),\n",
       " ('radiopaque', 'radiolucent'),\n",
       " ('clearheaded', 'confused'),\n",
       " ('confused', 'clearheaded'),\n",
       " ('clement', 'inclement'),\n",
       " ('inclement', 'clement'),\n",
       " ('clement', 'inclement'),\n",
       " ('inclement', 'clement'),\n",
       " ('smart', 'stupid'),\n",
       " ('stupid', 'smart'),\n",
       " ('clockwise', 'counterclockwise'),\n",
       " ('counterclockwise', 'clockwise'),\n",
       " ('far', 'near'),\n",
       " ('near', 'far'),\n",
       " ('distant', 'close'),\n",
       " ('close', 'distant'),\n",
       " ('distant', 'close'),\n",
       " ('close', 'distant'),\n",
       " ('cousinly', 'uncousinly'),\n",
       " ('uncousinly', 'cousinly'),\n",
       " ('clothed', 'unclothed'),\n",
       " ('unclothed', 'clothed'),\n",
       " ('saddled', 'unsaddled'),\n",
       " ('unsaddled', 'saddled'),\n",
       " ('clear', 'cloudy'),\n",
       " ('cloudy', 'clear'),\n",
       " ('coastal', 'inland'),\n",
       " ('inland', 'coastal'),\n",
       " ('inshore', 'offshore'),\n",
       " ('offshore', 'inshore'),\n",
       " ('coherent', 'incoherent'),\n",
       " ('incoherent', 'coherent'),\n",
       " ('collapsible', 'noncollapsible'),\n",
       " ('noncollapsible', 'collapsible'),\n",
       " ('crannied', 'uncrannied'),\n",
       " ('uncrannied', 'crannied'),\n",
       " ('collective', 'distributive'),\n",
       " ('distributive', 'collective'),\n",
       " ('publicized', 'suppressed'),\n",
       " ('suppressed', 'publicized'),\n",
       " ('published', 'unpublished'),\n",
       " ('unpublished', 'published'),\n",
       " ('publishable', 'unpublishable'),\n",
       " ('unpublishable', 'publishable'),\n",
       " ('reported', 'unreported'),\n",
       " ('unreported', 'reported'),\n",
       " ('reportable', 'unreportable'),\n",
       " ('unreportable', 'reportable'),\n",
       " ('combinative', 'noncombinative'),\n",
       " ('noncombinative', 'combinative'),\n",
       " ('combustible', 'noncombustible'),\n",
       " ('noncombustible', 'combustible'),\n",
       " ('explosive', 'nonexplosive'),\n",
       " ('nonexplosive', 'explosive'),\n",
       " ('lighted', 'unlighted'),\n",
       " ('unlighted', 'lighted'),\n",
       " ('commodious', 'incommodious'),\n",
       " ('incommodious', 'commodious'),\n",
       " ('comfortable', 'uncomfortable'),\n",
       " ('uncomfortable', 'comfortable'),\n",
       " ('comfortable', 'uncomfortable'),\n",
       " ('uncomfortable', 'comfortable'),\n",
       " ('commensurate', 'incommensurate'),\n",
       " ('incommensurate', 'commensurate'),\n",
       " ('proportionate', 'disproportionate'),\n",
       " ('disproportionate', 'proportionate'),\n",
       " ('commercial', 'noncommercial'),\n",
       " ('noncommercial', 'commercial'),\n",
       " ('residential', 'nonresidential'),\n",
       " ('nonresidential', 'residential'),\n",
       " ('commissioned', 'noncommissioned'),\n",
       " ('noncommissioned', 'commissioned'),\n",
       " ('common', 'uncommon'),\n",
       " ('uncommon', 'common'),\n",
       " ('usual', 'unusual'),\n",
       " ('unusual', 'usual'),\n",
       " ('hydrophobic', 'hydrophilic'),\n",
       " ('hydrophilic', 'hydrophobic'),\n",
       " ('oleophilic', 'oleophobic'),\n",
       " ('oleophobic', 'oleophilic'),\n",
       " ('common', 'individual'),\n",
       " ('individual', 'common'),\n",
       " ('communicative', 'uncommunicative'),\n",
       " ('uncommunicative', 'communicative'),\n",
       " ('compact', 'loose'),\n",
       " ('loose', 'compact'),\n",
       " ('comparable', 'incomparable'),\n",
       " ('incomparable', 'comparable'),\n",
       " ('compassionate', 'uncompassionate'),\n",
       " ('uncompassionate', 'compassionate'),\n",
       " ('compatible', 'incompatible'),\n",
       " ('incompatible', 'compatible'),\n",
       " ('compatible', 'incompatible'),\n",
       " ('incompatible', 'compatible'),\n",
       " ('miscible', 'immiscible'),\n",
       " ('immiscible', 'miscible'),\n",
       " ('competent', 'incompetent'),\n",
       " ('incompetent', 'competent'),\n",
       " ('competent', 'incompetent'),\n",
       " ('incompetent', 'competent'),\n",
       " ('competitive', 'noncompetitive'),\n",
       " ('noncompetitive', 'competitive'),\n",
       " ('complaining', 'uncomplaining'),\n",
       " ('uncomplaining', 'complaining'),\n",
       " ('compressible', 'incompressible'),\n",
       " ('incompressible', 'compressible'),\n",
       " ('whole', 'fractional'),\n",
       " ('fractional', 'whole'),\n",
       " ('whole', 'half'),\n",
       " ('half', 'whole'),\n",
       " ('committed', 'uncommitted'),\n",
       " ('uncommitted', 'committed'),\n",
       " ('dedicated', 'undedicated'),\n",
       " ('undedicated', 'dedicated'),\n",
       " ('complete', 'incomplete'),\n",
       " ('incomplete', 'complete'),\n",
       " ('comprehensive', 'noncomprehensive'),\n",
       " ('noncomprehensive', 'comprehensive'),\n",
       " ('composed', 'discomposed'),\n",
       " ('discomposed', 'composed'),\n",
       " ('comprehensible', 'incomprehensible'),\n",
       " ('incomprehensible', 'comprehensible'),\n",
       " ('concave', 'convex'),\n",
       " ('convex', 'concave'),\n",
       " ('concentrated', 'distributed'),\n",
       " ('distributed', 'concentrated'),\n",
       " ('concentric', 'eccentric'),\n",
       " ('eccentric', 'concentric'),\n",
       " ('concerned', 'unconcerned'),\n",
       " ('unconcerned', 'concerned'),\n",
       " ('concise', 'prolix'),\n",
       " ('prolix', 'concise'),\n",
       " ('conclusive', 'inconclusive'),\n",
       " ('inconclusive', 'conclusive'),\n",
       " ('consummated', 'unconsummated'),\n",
       " ('unconsummated', 'consummated'),\n",
       " ('coordinating', 'subordinating'),\n",
       " ('subordinating', 'coordinating'),\n",
       " ('accordant', 'discordant'),\n",
       " ('discordant', 'accordant'),\n",
       " ('contracted', 'expanded'),\n",
       " ('expanded', 'contracted'),\n",
       " ('atrophied', 'hypertrophied'),\n",
       " ('hypertrophied', 'atrophied'),\n",
       " ('conditional', 'unconditional'),\n",
       " ('unconditional', 'conditional'),\n",
       " ('enforceable', 'unenforceable'),\n",
       " ('unenforceable', 'enforceable'),\n",
       " ('enforced', 'unenforced'),\n",
       " ('unenforced', 'enforced'),\n",
       " ('conductive', 'nonconductive'),\n",
       " ('nonconductive', 'conductive'),\n",
       " ('confined', 'unconfined'),\n",
       " ('unconfined', 'confined'),\n",
       " ('crowded', 'uncrowded'),\n",
       " ('uncrowded', 'crowded'),\n",
       " ('congenial', 'uncongenial'),\n",
       " ('uncongenial', 'congenial'),\n",
       " ('congruent', 'incongruent'),\n",
       " ('incongruent', 'congruent'),\n",
       " ('congruous', 'incongruous'),\n",
       " ('incongruous', 'congruous'),\n",
       " ('conjunctive', 'disjunctive'),\n",
       " ('disjunctive', 'conjunctive'),\n",
       " ('conjunct', 'disjunct'),\n",
       " ('disjunct', 'conjunct'),\n",
       " ('connected', 'unconnected'),\n",
       " ('unconnected', 'connected'),\n",
       " ('conquerable', 'unconquerable'),\n",
       " ('unconquerable', 'conquerable'),\n",
       " ('conscious', 'unconscious'),\n",
       " ('unconscious', 'conscious'),\n",
       " ('consecrated', 'desecrated'),\n",
       " ('desecrated', 'consecrated'),\n",
       " ('priestly', 'unpriestly'),\n",
       " ('unpriestly', 'priestly'),\n",
       " ('conservative', 'liberal'),\n",
       " ('liberal', 'conservative'),\n",
       " ('consistent', 'inconsistent'),\n",
       " ('inconsistent', 'consistent'),\n",
       " ('conspicuous', 'inconspicuous'),\n",
       " ('inconspicuous', 'conspicuous'),\n",
       " ('discernible', 'indiscernible'),\n",
       " ('indiscernible', 'discernible'),\n",
       " ('distinguishable', 'indistinguishable'),\n",
       " ('indistinguishable', 'distinguishable'),\n",
       " ('constant', 'inconstant'),\n",
       " ('inconstant', 'constant'),\n",
       " ('constructive', 'destructive'),\n",
       " ('destructive', 'constructive'),\n",
       " ('contented', 'discontented'),\n",
       " ('discontented', 'contented'),\n",
       " ('contestable', 'incontestable'),\n",
       " ('incontestable', 'contestable'),\n",
       " ('continent', 'incontinent'),\n",
       " ('incontinent', 'continent'),\n",
       " ('continual', 'sporadic'),\n",
       " ('sporadic', 'continual'),\n",
       " ('continuous', 'discontinuous'),\n",
       " ('discontinuous', 'continuous'),\n",
       " ('continuous', 'discontinuous'),\n",
       " ('discontinuous', 'continuous'),\n",
       " ('continued', 'discontinued'),\n",
       " ('discontinued', 'continued'),\n",
       " ('controlled', 'uncontrolled'),\n",
       " ('uncontrolled', 'controlled'),\n",
       " ('controversial', 'uncontroversial'),\n",
       " ('uncontroversial', 'controversial'),\n",
       " ('argumentative', 'unargumentative'),\n",
       " ('unargumentative', 'argumentative'),\n",
       " ('convenient', 'inconvenient'),\n",
       " ('inconvenient', 'convenient'),\n",
       " ('conventional', 'unconventional'),\n",
       " ('unconventional', 'conventional'),\n",
       " ('conventional', 'unconventional'),\n",
       " ('unconventional', 'conventional'),\n",
       " ('conformist', 'nonconformist'),\n",
       " ('nonconformist', 'conformist'),\n",
       " ('nuclear', 'conventional'),\n",
       " ('conventional', 'nuclear'),\n",
       " ('traditional', 'nontraditional'),\n",
       " ('nontraditional', 'traditional'),\n",
       " ('convergent', 'divergent'),\n",
       " ('divergent', 'convergent'),\n",
       " ('branchy', 'branchless'),\n",
       " ('branchless', 'branchy'),\n",
       " ('convincing', 'unconvincing'),\n",
       " ('unconvincing', 'convincing'),\n",
       " ('cooked', 'raw'),\n",
       " ('raw', 'cooked'),\n",
       " ('cooperative', 'uncooperative'),\n",
       " ('uncooperative', 'cooperative'),\n",
       " ('corrupt', 'incorrupt'),\n",
       " ('incorrupt', 'corrupt'),\n",
       " ('synergistic', 'antagonistic'),\n",
       " ('antagonistic', 'synergistic'),\n",
       " ('considerable', 'inconsiderable'),\n",
       " ('inconsiderable', 'considerable'),\n",
       " ('substantial', 'insubstantial'),\n",
       " ('insubstantial', 'substantial'),\n",
       " ('material', 'immaterial'),\n",
       " ('immaterial', 'material'),\n",
       " ('bodied', 'unbodied'),\n",
       " ('unbodied', 'bodied'),\n",
       " ('brainwashed', 'unbrainwashed'),\n",
       " ('unbrainwashed', 'brainwashed'),\n",
       " ('corporeal', 'incorporeal'),\n",
       " ('incorporeal', 'corporeal'),\n",
       " ('correct', 'incorrect'),\n",
       " ('right', 'wrong'),\n",
       " ('incorrect', 'correct'),\n",
       " ('wrong', 'right'),\n",
       " ('right', 'wrong'),\n",
       " ('wrong', 'right'),\n",
       " ('corrected', 'uncorrected'),\n",
       " ('uncorrected', 'corrected'),\n",
       " ('corrigible', 'incorrigible'),\n",
       " ('incorrigible', 'corrigible'),\n",
       " ('cosmopolitan', 'provincial'),\n",
       " ('provincial', 'cosmopolitan'),\n",
       " ('costive', 'laxative'),\n",
       " ('laxative', 'costive'),\n",
       " ('constipated', 'unconstipated'),\n",
       " ('unconstipated', 'constipated'),\n",
       " ('considerate', 'inconsiderate'),\n",
       " ('inconsiderate', 'considerate'),\n",
       " ('courteous', 'discourteous'),\n",
       " ('discourteous', 'courteous'),\n",
       " ('polite', 'impolite'),\n",
       " ('impolite', 'polite'),\n",
       " ('civil', 'uncivil'),\n",
       " ('uncivil', 'civil'),\n",
       " ('civil', 'sidereal'),\n",
       " ('sidereal', 'civil'),\n",
       " ('creative', 'uncreative'),\n",
       " ('uncreative', 'creative'),\n",
       " ('credible', 'incredible'),\n",
       " ('incredible', 'credible'),\n",
       " ('credulous', 'incredulous'),\n",
       " ('incredulous', 'credulous'),\n",
       " ('critical', 'uncritical'),\n",
       " ('uncritical', 'critical'),\n",
       " ('judgmental', 'nonjudgmental'),\n",
       " ('nonjudgmental', 'judgmental'),\n",
       " ('critical', 'uncritical'),\n",
       " ('uncritical', 'critical'),\n",
       " ('critical', 'noncritical'),\n",
       " ('noncritical', 'critical'),\n",
       " ('critical', 'noncritical'),\n",
       " ('noncritical', 'critical'),\n",
       " ('crossed', 'uncrossed'),\n",
       " ('uncrossed', 'crossed'),\n",
       " ('crossed', 'uncrossed'),\n",
       " ('uncrossed', 'crossed'),\n",
       " ('cross-eyed', 'walleyed'),\n",
       " ('walleyed', 'cross-eyed'),\n",
       " ('crowned', 'uncrowned'),\n",
       " ('uncrowned', 'crowned'),\n",
       " ('crowned', 'uncrowned'),\n",
       " ('uncrowned', 'crowned'),\n",
       " ('crucial', 'noncrucial'),\n",
       " ('noncrucial', 'crucial'),\n",
       " ('crystallized', 'uncrystallized'),\n",
       " ('uncrystallized', 'crystallized'),\n",
       " ('cubic', 'linear'),\n",
       " ...]"
      ]
     },
     "execution_count": 2,
     "metadata": {},
     "output_type": "execute_result"
    }
   ],
   "source": [
    "list_of_antonyms"
   ]
  },
  {
   "cell_type": "markdown",
   "metadata": {},
   "source": [
    "I chose only the words that have less than 5 letters. They are more frequent and easier to understand for the speakers. "
   ]
  },
  {
   "cell_type": "code",
   "execution_count": 4,
   "metadata": {},
   "outputs": [],
   "source": [
    "list_of_short_couple = []\n",
    "for i in list_of_antonyms:\n",
    "    if len(i[0]) < 5:\n",
    "        list_of_short_couple.append(i)\n",
    "    else:\n",
    "        pass"
   ]
  },
  {
   "cell_type": "markdown",
   "metadata": {},
   "source": [
    "I selected randomly 50 of them."
   ]
  },
  {
   "cell_type": "code",
   "execution_count": 73,
   "metadata": {},
   "outputs": [
    {
     "data": {
      "text/plain": [
       "[('out', 'safe'),\n",
       " ('off', 'on'),\n",
       " ('able', 'unable'),\n",
       " ('left', 'right'),\n",
       " ('dull', 'sharp'),\n",
       " ('left', 'center'),\n",
       " ('fast', 'slow'),\n",
       " ('wet', 'dry'),\n",
       " ('late', 'early'),\n",
       " ('wet', 'dry'),\n",
       " ('true', 'false'),\n",
       " ('dry', 'phlegmy'),\n",
       " ('wary', 'unwary'),\n",
       " ('old', 'new'),\n",
       " ('easy', 'uneasy'),\n",
       " ('dry', 'wet'),\n",
       " ('thin', 'fat'),\n",
       " ('oral', 'anal'),\n",
       " ('live', 'dead'),\n",
       " ('thin', 'full'),\n",
       " ('foul', 'fair'),\n",
       " ('less', 'more'),\n",
       " ('kind', 'unkind'),\n",
       " ('shut', 'open'),\n",
       " ('paid', 'unpaid'),\n",
       " ('loud', 'soft'),\n",
       " ('deep', 'shallow'),\n",
       " ('male', 'female'),\n",
       " ('on', 'off'),\n",
       " ('down', 'up'),\n",
       " ('dull', 'lively'),\n",
       " ('open', 'closed'),\n",
       " ('cut', 'uncut'),\n",
       " ('deaf', 'hearing'),\n",
       " ('more', 'less'),\n",
       " ('soft', 'hard'),\n",
       " ('poor', 'rich'),\n",
       " ('tidy', 'untidy'),\n",
       " ('no', 'all'),\n",
       " ('rich', 'lean'),\n",
       " ('like', 'unlike'),\n",
       " ('wet', 'dry'),\n",
       " ('mild', 'intense'),\n",
       " ('like', 'unlike'),\n",
       " ('sold', 'unsold'),\n",
       " ('aft', 'fore'),\n",
       " ('same', 'different'),\n",
       " ('slow', 'fast'),\n",
       " ('up', 'down'),\n",
       " ('long', 'short')]"
      ]
     },
     "execution_count": 73,
     "metadata": {},
     "output_type": "execute_result"
    }
   ],
   "source": [
    "import random\n",
    "random.sample(list_of_short_couple, 50)"
   ]
  },
  {
   "cell_type": "markdown",
   "metadata": {},
   "source": [
    "## 2. Semantic Space and Analogies"
   ]
  },
  {
   "cell_type": "code",
   "execution_count": 1,
   "metadata": {},
   "outputs": [],
   "source": [
    "from gensim.models import word2vec\n",
    "sentences = word2vec.Text8Corpus('/Users/gretagandolfi/Desktop/text8')\n",
    "# train the skip-gram model; default window=5\n",
    "model = word2vec.Word2Vec(sentences, size=200)"
   ]
  },
  {
   "cell_type": "code",
   "execution_count": 2,
   "metadata": {},
   "outputs": [],
   "source": [
    "list_of_binary_antonyms_from_test = [('true', 'false'), ('in', 'out'), ('alive', 'dead')]"
   ]
  },
  {
   "cell_type": "code",
   "execution_count": 3,
   "metadata": {},
   "outputs": [],
   "source": [
    "list_of_binary_antonyms_from_wikiandAina = [('present' , 'absent'), ('uniform', 'multiform'), ('single','compound'), ('single' , 'multiple'), ('foreign' , 'native'), ('optional' , 'obligatory'), ('separate' , 'joint') ,('religious' , 'secular') ,('private' , 'public') ,('true' , 'false') ,('alive' , 'dead' ) ,('blind' , 'sighted') ,('innocent' , 'guilty') ,('other', 'same'), ('mortal', 'immortal'),('occupied' , 'vacant')]"
   ]
  },
  {
   "cell_type": "code",
   "execution_count": 4,
   "metadata": {},
   "outputs": [
    {
     "data": {
      "text/plain": [
       "[('true', 'false'), ('in', 'out'), ('alive', 'dead')]"
      ]
     },
     "execution_count": 4,
     "metadata": {},
     "output_type": "execute_result"
    }
   ],
   "source": [
    "list_of_binary_antonyms_from_test"
   ]
  },
  {
   "cell_type": "code",
   "execution_count": 5,
   "metadata": {},
   "outputs": [
    {
     "data": {
      "text/plain": [
       "[('present', 'absent'),\n",
       " ('uniform', 'multiform'),\n",
       " ('single', 'compound'),\n",
       " ('single', 'multiple'),\n",
       " ('foreign', 'native'),\n",
       " ('optional', 'obligatory'),\n",
       " ('separate', 'joint'),\n",
       " ('religious', 'secular'),\n",
       " ('private', 'public'),\n",
       " ('true', 'false'),\n",
       " ('alive', 'dead'),\n",
       " ('blind', 'sighted'),\n",
       " ('innocent', 'guilty'),\n",
       " ('other', 'same'),\n",
       " ('mortal', 'immortal'),\n",
       " ('occupied', 'vacant')]"
      ]
     },
     "execution_count": 5,
     "metadata": {},
     "output_type": "execute_result"
    }
   ],
   "source": [
    "list_of_binary_antonyms_from_wikiandAina"
   ]
  },
  {
   "cell_type": "markdown",
   "metadata": {},
   "source": [
    "### First attempt: computation of analogies between pairs of binary antonyms"
   ]
  },
  {
   "cell_type": "code",
   "execution_count": 76,
   "metadata": {
    "collapsed": true
   },
   "outputs": [
    {
     "name": "stdout",
     "output_type": "stream",
     "text": [
      "[('evident', 0.6225808262825012), ('excluded', 0.5497227907180786), ('isolated', 0.5361262559890747), ('descended', 0.529793381690979), ('separated', 0.5277182459831238)]\n",
      "[('perfect', 0.44954049587249756), ('evident', 0.41188496351242065), ('visible', 0.37703895568847656), ('modern', 0.3755568861961365), ('confined', 0.3703804314136505)]\n"
     ]
    }
   ],
   "source": [
    "print(model.wv.most_similar(positive=['true', 'absent'], negative=['false'], topn=5))\n",
    "print(model.wv.most_similar(positive=['true', 'present'], negative=['false'], topn=5))\n",
    "# They don't work."
   ]
  },
  {
   "cell_type": "code",
   "execution_count": 11,
   "metadata": {
    "collapsed": true
   },
   "outputs": [
    {
     "name": "stdout",
     "output_type": "stream",
     "text": [
      "[('vertical', 0.5241924524307251), ('fixed', 0.5168214440345764), ('colour', 0.5074988007545471), ('colors', 0.4958348572254181), ('blue', 0.49144721031188965)]\n"
     ]
    },
    {
     "ename": "KeyError",
     "evalue": "\"word 'multiform' not in vocabulary\"",
     "output_type": "error",
     "traceback": [
      "\u001b[0;31m---------------------------------------------------------------------------\u001b[0m",
      "\u001b[0;31mKeyError\u001b[0m                                  Traceback (most recent call last)",
      "\u001b[0;32m<ipython-input-11-62d21a0baaf5>\u001b[0m in \u001b[0;36m<module>\u001b[0;34m\u001b[0m\n\u001b[1;32m      1\u001b[0m \u001b[0mprint\u001b[0m\u001b[0;34m(\u001b[0m\u001b[0mmodel\u001b[0m\u001b[0;34m.\u001b[0m\u001b[0mwv\u001b[0m\u001b[0;34m.\u001b[0m\u001b[0mmost_similar\u001b[0m\u001b[0;34m(\u001b[0m\u001b[0mpositive\u001b[0m\u001b[0;34m=\u001b[0m\u001b[0;34m[\u001b[0m\u001b[0;34m'true'\u001b[0m\u001b[0;34m,\u001b[0m \u001b[0;34m'uniform'\u001b[0m\u001b[0;34m]\u001b[0m\u001b[0;34m,\u001b[0m \u001b[0mnegative\u001b[0m\u001b[0;34m=\u001b[0m\u001b[0;34m[\u001b[0m\u001b[0;34m'false'\u001b[0m\u001b[0;34m]\u001b[0m\u001b[0;34m,\u001b[0m \u001b[0mtopn\u001b[0m\u001b[0;34m=\u001b[0m\u001b[0;36m5\u001b[0m\u001b[0;34m)\u001b[0m\u001b[0;34m)\u001b[0m\u001b[0;34m\u001b[0m\u001b[0;34m\u001b[0m\u001b[0m\n\u001b[0;32m----> 2\u001b[0;31m \u001b[0mprint\u001b[0m\u001b[0;34m(\u001b[0m\u001b[0mmodel\u001b[0m\u001b[0;34m.\u001b[0m\u001b[0mwv\u001b[0m\u001b[0;34m.\u001b[0m\u001b[0mmost_similar\u001b[0m\u001b[0;34m(\u001b[0m\u001b[0mpositive\u001b[0m\u001b[0;34m=\u001b[0m\u001b[0;34m[\u001b[0m\u001b[0;34m'true'\u001b[0m\u001b[0;34m,\u001b[0m \u001b[0;34m'multiform'\u001b[0m\u001b[0;34m]\u001b[0m\u001b[0;34m,\u001b[0m \u001b[0mnegative\u001b[0m\u001b[0;34m=\u001b[0m\u001b[0;34m[\u001b[0m\u001b[0;34m'false'\u001b[0m\u001b[0;34m]\u001b[0m\u001b[0;34m,\u001b[0m \u001b[0mtopn\u001b[0m\u001b[0;34m=\u001b[0m\u001b[0;36m5\u001b[0m\u001b[0;34m)\u001b[0m\u001b[0;34m)\u001b[0m\u001b[0;34m\u001b[0m\u001b[0;34m\u001b[0m\u001b[0m\n\u001b[0m\u001b[1;32m      3\u001b[0m \u001b[0;31m# They don't work.\u001b[0m\u001b[0;34m\u001b[0m\u001b[0;34m\u001b[0m\u001b[0;34m\u001b[0m\u001b[0m\n",
      "\u001b[0;32m/anaconda3/lib/python3.6/site-packages/gensim/models/keyedvectors.py\u001b[0m in \u001b[0;36mmost_similar\u001b[0;34m(self, positive, negative, topn, restrict_vocab, indexer)\u001b[0m\n\u001b[1;32m    363\u001b[0m                 \u001b[0mmean\u001b[0m\u001b[0;34m.\u001b[0m\u001b[0mappend\u001b[0m\u001b[0;34m(\u001b[0m\u001b[0mweight\u001b[0m \u001b[0;34m*\u001b[0m \u001b[0mword\u001b[0m\u001b[0;34m)\u001b[0m\u001b[0;34m\u001b[0m\u001b[0;34m\u001b[0m\u001b[0m\n\u001b[1;32m    364\u001b[0m             \u001b[0;32melse\u001b[0m\u001b[0;34m:\u001b[0m\u001b[0;34m\u001b[0m\u001b[0;34m\u001b[0m\u001b[0m\n\u001b[0;32m--> 365\u001b[0;31m                 \u001b[0mmean\u001b[0m\u001b[0;34m.\u001b[0m\u001b[0mappend\u001b[0m\u001b[0;34m(\u001b[0m\u001b[0mweight\u001b[0m \u001b[0;34m*\u001b[0m \u001b[0mself\u001b[0m\u001b[0;34m.\u001b[0m\u001b[0mword_vec\u001b[0m\u001b[0;34m(\u001b[0m\u001b[0mword\u001b[0m\u001b[0;34m,\u001b[0m \u001b[0muse_norm\u001b[0m\u001b[0;34m=\u001b[0m\u001b[0;32mTrue\u001b[0m\u001b[0;34m)\u001b[0m\u001b[0;34m)\u001b[0m\u001b[0;34m\u001b[0m\u001b[0;34m\u001b[0m\u001b[0m\n\u001b[0m\u001b[1;32m    366\u001b[0m                 \u001b[0;32mif\u001b[0m \u001b[0mword\u001b[0m \u001b[0;32min\u001b[0m \u001b[0mself\u001b[0m\u001b[0;34m.\u001b[0m\u001b[0mvocab\u001b[0m\u001b[0;34m:\u001b[0m\u001b[0;34m\u001b[0m\u001b[0;34m\u001b[0m\u001b[0m\n\u001b[1;32m    367\u001b[0m                     \u001b[0mall_words\u001b[0m\u001b[0;34m.\u001b[0m\u001b[0madd\u001b[0m\u001b[0;34m(\u001b[0m\u001b[0mself\u001b[0m\u001b[0;34m.\u001b[0m\u001b[0mvocab\u001b[0m\u001b[0;34m[\u001b[0m\u001b[0mword\u001b[0m\u001b[0;34m]\u001b[0m\u001b[0;34m.\u001b[0m\u001b[0mindex\u001b[0m\u001b[0;34m)\u001b[0m\u001b[0;34m\u001b[0m\u001b[0;34m\u001b[0m\u001b[0m\n",
      "\u001b[0;32m/anaconda3/lib/python3.6/site-packages/gensim/models/keyedvectors.py\u001b[0m in \u001b[0;36mword_vec\u001b[0;34m(self, word, use_norm)\u001b[0m\n\u001b[1;32m    272\u001b[0m             \u001b[0;32mreturn\u001b[0m \u001b[0mresult\u001b[0m\u001b[0;34m\u001b[0m\u001b[0;34m\u001b[0m\u001b[0m\n\u001b[1;32m    273\u001b[0m         \u001b[0;32melse\u001b[0m\u001b[0;34m:\u001b[0m\u001b[0;34m\u001b[0m\u001b[0;34m\u001b[0m\u001b[0m\n\u001b[0;32m--> 274\u001b[0;31m             \u001b[0;32mraise\u001b[0m \u001b[0mKeyError\u001b[0m\u001b[0;34m(\u001b[0m\u001b[0;34m\"word '%s' not in vocabulary\"\u001b[0m \u001b[0;34m%\u001b[0m \u001b[0mword\u001b[0m\u001b[0;34m)\u001b[0m\u001b[0;34m\u001b[0m\u001b[0;34m\u001b[0m\u001b[0m\n\u001b[0m\u001b[1;32m    275\u001b[0m \u001b[0;34m\u001b[0m\u001b[0m\n\u001b[1;32m    276\u001b[0m     \u001b[0;32mdef\u001b[0m \u001b[0mget_vector\u001b[0m\u001b[0;34m(\u001b[0m\u001b[0mself\u001b[0m\u001b[0;34m,\u001b[0m \u001b[0mword\u001b[0m\u001b[0;34m)\u001b[0m\u001b[0;34m:\u001b[0m\u001b[0;34m\u001b[0m\u001b[0;34m\u001b[0m\u001b[0m\n",
      "\u001b[0;31mKeyError\u001b[0m: \"word 'multiform' not in vocabulary\""
     ]
    }
   ],
   "source": [
    "print(model.wv.most_similar(positive=['true', 'uniform'], negative=['false'], topn=5))\n",
    "print(model.wv.most_similar(positive=['true', 'multiform'], negative=['false'], topn=5))\n",
    "# They don't work."
   ]
  },
  {
   "cell_type": "code",
   "execution_count": 12,
   "metadata": {},
   "outputs": [
    {
     "name": "stdout",
     "output_type": "stream",
     "text": [
      "[('fixed', 0.4827375113964081), ('double', 0.4560660123825073), ('segment', 0.4520832896232605), ('smallest', 0.44871097803115845), ('dual', 0.44767969846725464)]\n",
      "[('ionic', 0.6317138671875), ('isomers', 0.6191502213478088), ('compounds', 0.6129282712936401), ('orbitals', 0.6070600152015686), ('molecule', 0.6057956218719482)]\n"
     ]
    }
   ],
   "source": [
    "print(model.wv.most_similar(positive=['true', 'single'], negative=['false'], topn=5))\n",
    "print(model.wv.most_similar(positive=['true', 'compound'], negative=['false'], topn=5))\n",
    "# They don't work."
   ]
  },
  {
   "cell_type": "code",
   "execution_count": 13,
   "metadata": {},
   "outputs": [
    {
     "name": "stdout",
     "output_type": "stream",
     "text": [
      "[('finland', 0.4828031659126282), ('overseas', 0.46319180727005005), ('mozambique', 0.4384204149246216), ('domestic', 0.4355633854866028), ('trade', 0.43420764803886414)]\n",
      "[('inuit', 0.517993688583374), ('extinct', 0.5080828666687012), ('camelids', 0.5013427734375), ('ancestry', 0.5002095699310303), ('americas', 0.5000421404838562)]\n"
     ]
    }
   ],
   "source": [
    "print(model.wv.most_similar(positive=['true', 'foreign'], negative=['false'], topn=5))\n",
    "print(model.wv.most_similar(positive=['true', 'native'], negative=['false'], topn=5))\n",
    "# They don't work."
   ]
  },
  {
   "cell_type": "code",
   "execution_count": 81,
   "metadata": {},
   "outputs": [
    {
     "name": "stdout",
     "output_type": "stream",
     "text": [
      "[('fpu', 0.5798856019973755), ('embedded', 0.5734983682632446), ('configuration', 0.5630630254745483), ('analog', 0.557661235332489), ('compatible', 0.5534182786941528)]\n",
      "[('uncommon', 0.5293384790420532), ('unheard', 0.5254084467887878), ('unsuitable', 0.495739609003067), ('essential', 0.48547396063804626), ('acceptable', 0.4724310338497162)]\n"
     ]
    }
   ],
   "source": [
    "print(model.wv.most_similar(positive=['true', 'optional'], negative=['false'], topn=5))\n",
    "print(model.wv.most_similar(positive=['true', 'obligatory'], negative=['false'], topn=5))\n",
    "# They don't work."
   ]
  },
  {
   "cell_type": "code",
   "execution_count": 82,
   "metadata": {},
   "outputs": [
    {
     "name": "stdout",
     "output_type": "stream",
     "text": [
      "[('distinct', 0.638221263885498), ('different', 0.4566038250923157), ('separated', 0.4534605145454407), ('core', 0.4454799294471741), ('constituent', 0.42423245310783386)]\n",
      "[('partnership', 0.5256252884864807), ('cooperation', 0.5143856406211853), ('strategic', 0.5013152360916138), ('hub', 0.46806198358535767), ('operational', 0.4541013240814209)]\n"
     ]
    }
   ],
   "source": [
    "print(model.wv.most_similar(positive=['true', 'separate'], negative=['false'], topn=5))\n",
    "print(model.wv.most_similar(positive=['true', 'joint'], negative=['false'], topn=5))\n",
    "# They don't work."
   ]
  },
  {
   "cell_type": "code",
   "execution_count": 89,
   "metadata": {},
   "outputs": [
    {
     "name": "stdout",
     "output_type": "stream",
     "text": [
      "[('sector', 0.4959017336368561), ('business', 0.48735713958740234), ('commercial', 0.48078638315200806), ('enterprises', 0.46067941188812256), ('residential', 0.45548784732818604)]\n",
      "[('private', 0.5041391849517822), ('sector', 0.4541909098625183), ('commercial', 0.4511606693267822), ('industry', 0.4080234169960022), ('hub', 0.38958820700645447)]\n"
     ]
    }
   ],
   "source": [
    "print(model.wv.most_similar(positive=['true', 'private'], negative=['false'], topn=5))\n",
    "print(model.wv.most_similar(positive=['true', 'public'], negative=['false'], topn=5))\n",
    "# They don't work."
   ]
  },
  {
   "cell_type": "code",
   "execution_count": 87,
   "metadata": {},
   "outputs": [
    {
     "name": "stdout",
     "output_type": "stream",
     "text": [
      "[('religion', 0.5838701725006104), ('christian', 0.5735974907875061), ('secular', 0.570031464099884), ('spiritual', 0.5699824094772339), ('christianity', 0.552483856678009)]\n",
      "[('evangelical', 0.6028248071670532), ('reformed', 0.5753991603851318), ('protestantism', 0.5738958716392517), ('fundamentalist', 0.5556013584136963), ('religious', 0.5515393614768982)]\n"
     ]
    }
   ],
   "source": [
    "print(model.wv.most_similar(positive=['true', 'religious'], negative=['false'], topn=5))\n",
    "print(model.wv.most_similar(positive=['true', 'secular'], negative=['false'], topn=5))\n",
    "# They work! The right option is in the first 5 results."
   ]
  },
  {
   "cell_type": "code",
   "execution_count": 88,
   "metadata": {
    "scrolled": false
   },
   "outputs": [
    {
     "name": "stdout",
     "output_type": "stream",
     "text": [
      "[('cremated', 0.4732624888420105), ('happy', 0.4658716917037964), ('remembered', 0.44346606731414795), ('buried', 0.4426049590110779), ('baptized', 0.4380934238433838)]\n",
      "[('alive', 0.5186466574668884), ('sky', 0.5106918811798096), ('heaven', 0.4892250597476959), ('darkness', 0.4721599817276001), ('ashes', 0.4707285761833191)]\n"
     ]
    }
   ],
   "source": [
    "print(model.wv.most_similar(positive=['true', 'alive'], negative=['false'], topn=5))\n",
    "print(model.wv.most_similar(positive=['true', 'dead'], negative=['false'], topn=5))\n",
    "# Only the second analogy works."
   ]
  },
  {
   "cell_type": "code",
   "execution_count": 90,
   "metadata": {
    "scrolled": true
   },
   "outputs": [
    {
     "name": "stdout",
     "output_type": "stream",
     "text": [
      "[('deaf', 0.4644707441329956), ('dressing', 0.4337548017501831), ('alive', 0.4333540201187134), ('gifted', 0.43080949783325195), ('mate', 0.4190908968448639)]\n",
      "[('inhabited', 0.4914458692073822), ('billed', 0.4895131289958954), ('colonized', 0.47400224208831787), ('spotted', 0.47095540165901184), ('discovered', 0.4634580910205841)]\n"
     ]
    }
   ],
   "source": [
    "print(model.wv.most_similar(positive=['true', 'blind'], negative=['false'], topn=5))\n",
    "print(model.wv.most_similar(positive=['true', 'sighted'], negative=['false'], topn=5))\n",
    "# They don't work."
   ]
  },
  {
   "cell_type": "code",
   "execution_count": 91,
   "metadata": {},
   "outputs": [
    {
     "name": "stdout",
     "output_type": "stream",
     "text": [
      "[('tyrant', 0.5377399325370789), ('tsar', 0.4870694875717163), ('romanus', 0.48681512475013733), ('reigning', 0.4842982292175293), ('heraclius', 0.4808652997016907)]\n",
      "[('uncommon', 0.44063663482666016), ('liable', 0.4319942593574524), ('verdict', 0.41691040992736816), ('satisfied', 0.41297733783721924), ('convicted', 0.4075468182563782)]\n"
     ]
    }
   ],
   "source": [
    "print(model.wv.most_similar(positive=['true', 'innocent'], negative=['false'], topn=5))\n",
    "print(model.wv.most_similar(positive=['true', 'guilty'], negative=['false'], topn=5))\n",
    "# They don't work."
   ]
  },
  {
   "cell_type": "code",
   "execution_count": 92,
   "metadata": {},
   "outputs": [
    {
     "name": "stdout",
     "output_type": "stream",
     "text": [
      "[('larger', 0.41158896684646606), ('poorest', 0.3969212770462036), ('different', 0.39620155096054077), ('smaller', 0.3921430706977844), ('various', 0.3859006464481354)]\n",
      "[('usual', 0.4680839776992798), ('dominant', 0.44048646092414856), ('rest', 0.4307534098625183), ('whole', 0.41689199209213257), ('equal', 0.39507216215133667)]\n"
     ]
    }
   ],
   "source": [
    "print(model.wv.most_similar(positive=['true', 'other'], negative=['false'], topn=5))\n",
    "print(model.wv.most_similar(positive=['true', 'same'], negative=['false'], topn=5))\n",
    "# They don't work."
   ]
  },
  {
   "cell_type": "code",
   "execution_count": 93,
   "metadata": {},
   "outputs": [
    {
     "name": "stdout",
     "output_type": "stream",
     "text": [
      "[('flesh', 0.6071195602416992), ('glory', 0.5721473693847656), ('soul', 0.5713418126106262), ('beloved', 0.5496032238006592), ('resurrected', 0.5359903573989868)]\n",
      "[('galactus', 0.5039137005805969), ('beloved', 0.5023564100265503), ('consort', 0.4909791052341461), ('immortals', 0.4906361699104309), ('archetype', 0.4859960079193115)]\n"
     ]
    }
   ],
   "source": [
    "print(model.wv.most_similar(positive=['true', 'mortal'], negative=['false'], topn=5))\n",
    "print(model.wv.most_similar(positive=['true', 'immortal'], negative=['false'], topn=5))\n",
    "# They don't work."
   ]
  },
  {
   "cell_type": "code",
   "execution_count": 94,
   "metadata": {
    "scrolled": true
   },
   "outputs": [
    {
     "name": "stdout",
     "output_type": "stream",
     "text": [
      "[('annexed', 0.6366355419158936), ('conquered', 0.6261029839515686), ('captured', 0.5847223401069641), ('colonized', 0.5768872499465942), ('inhabited', 0.5657310485839844)]\n",
      "[('seat', 0.5080783367156982), ('palace', 0.48058414459228516), ('regent', 0.4630391597747803), ('wellington', 0.45703449845314026), ('terminus', 0.4533216655254364)]\n"
     ]
    }
   ],
   "source": [
    "print(model.wv.most_similar(positive=['true', 'occupied'], negative=['false'], topn=5))\n",
    "print(model.wv.most_similar(positive=['true', 'vacant'], negative=['false'], topn=5))\n",
    "# They don't work."
   ]
  },
  {
   "cell_type": "markdown",
   "metadata": {},
   "source": [
    "Only few other combinations work:"
   ]
  },
  {
   "cell_type": "code",
   "execution_count": 8,
   "metadata": {},
   "outputs": [
    {
     "data": {
      "text/plain": [
       "[('secular', 0.597592830657959),\n",
       " ('evangelical', 0.561590313911438),\n",
       " ('anabaptist', 0.5403534173965454),\n",
       " ('spiritual', 0.534504771232605),\n",
       " ('monastic', 0.5338103771209717)]"
      ]
     },
     "execution_count": 8,
     "metadata": {},
     "output_type": "execute_result"
    }
   ],
   "source": [
    "model.wv.most_similar(positive=['private', 'religious'], negative=['public'], topn=5)"
   ]
  },
  {
   "cell_type": "code",
   "execution_count": 9,
   "metadata": {},
   "outputs": [
    {
     "data": {
      "text/plain": [
       "[('alive', 0.5131338834762573),\n",
       " ('sky', 0.49783024191856384),\n",
       " ('heaven', 0.48268479108810425),\n",
       " ('angels', 0.47401830554008484),\n",
       " ('darkness', 0.47107070684432983)]"
      ]
     },
     "execution_count": 9,
     "metadata": {},
     "output_type": "execute_result"
    }
   ],
   "source": [
    "model.wv.most_similar(positive=['true', 'dead'], negative=['false'], topn=5)"
   ]
  },
  {
   "cell_type": "code",
   "execution_count": 10,
   "metadata": {},
   "outputs": [
    {
     "data": {
      "text/plain": [
       "[('chastity', 0.568109393119812),\n",
       " ('guilt', 0.5592048764228821),\n",
       " ('kindness', 0.5543923377990723),\n",
       " ('adultery', 0.5480606555938721),\n",
       " ('molestation', 0.5449272394180298)]"
      ]
     },
     "execution_count": 10,
     "metadata": {},
     "output_type": "execute_result"
    }
   ],
   "source": [
    "model.wv.most_similar(positive=['blind', 'innocent'], negative=['sighted'], topn=5)"
   ]
  },
  {
   "cell_type": "markdown",
   "metadata": {},
   "source": [
    "Far from my expectations, they do not work. \n",
    "\n",
    "Lets see what happens if we combine pairs of binary and non-binaty antonyms: "
   ]
  },
  {
   "cell_type": "code",
   "execution_count": 136,
   "metadata": {},
   "outputs": [],
   "source": [
    "list_of_graded_antonyms_from_test = [[('out', 'safe'), ('off', 'on'), ('able', 'unable'), ('left', 'right'), ('dull', 'sharp'), ('fast', 'slow'), ('wet', 'dry'), ('late', 'early'), ('wary', 'unwary'), ('old', 'new'), ('easy', 'uneasy'), ('thin', 'fat'), ('oral', 'anal'), ('foul', 'fair'), ('less', 'more'), ('kind', 'unkind'), ('shut', 'open'), ('paid', 'unpaid'), ('loud', 'soft'), ('deep', 'shallow'), ('male', 'female'), ('down', 'up'), ('open', 'closed'), ('deaf', 'hearing'), ('poor', 'rich'), ('tidy', 'untidy'), ('mild', 'intense'), ('slow', 'fast'), ('long', 'short')]]"
   ]
  },
  {
   "cell_type": "code",
   "execution_count": 137,
   "metadata": {},
   "outputs": [
    {
     "name": "stdout",
     "output_type": "stream",
     "text": [
      "[[('out', 'safe'), ('off', 'on'), ('able', 'unable'), ('left', 'right'), ('dull', 'sharp'), ('fast', 'slow'), ('wet', 'dry'), ('late', 'early'), ('wary', 'unwary'), ('old', 'new'), ('easy', 'uneasy'), ('thin', 'fat'), ('oral', 'anal'), ('foul', 'fair'), ('less', 'more'), ('kind', 'unkind'), ('shut', 'open'), ('paid', 'unpaid'), ('loud', 'soft'), ('deep', 'shallow'), ('male', 'female'), ('down', 'up'), ('open', 'closed'), ('deaf', 'hearing'), ('poor', 'rich'), ('tidy', 'untidy'), ('mild', 'intense'), ('slow', 'fast'), ('long', 'short')]]\n"
     ]
    }
   ],
   "source": [
    "print(list_of_graded_antonyms_from_test)"
   ]
  },
  {
   "cell_type": "code",
   "execution_count": 97,
   "metadata": {},
   "outputs": [
    {
     "name": "stdout",
     "output_type": "stream",
     "text": [
      "[('off', 0.5125397443771362), ('down', 0.4994128346443176), ('back', 0.454688161611557), ('away', 0.4500340223312378), ('rest', 0.43354207277297974)]\n",
      "[('suitable', 0.5680571794509888), ('ready', 0.5375901460647583), ('needed', 0.533706784248352), ('necessary', 0.5326665639877319), ('expensive', 0.5186945796012878)]\n"
     ]
    }
   ],
   "source": [
    "print(model.wv.most_similar(positive=['true', 'out'], negative=['false'], topn=5))\n",
    "print(model.wv.most_similar(positive=['true', 'safe'], negative=['false'], topn=5))\n",
    "# They don't work."
   ]
  },
  {
   "cell_type": "code",
   "execution_count": 99,
   "metadata": {},
   "outputs": [
    {
     "name": "stdout",
     "output_type": "stream",
     "text": [
      "[('away', 0.5342990756034851), ('down', 0.5289803147315979), ('out', 0.5042260885238647), ('edge', 0.47804805636405945), ('back', 0.47370827198028564)]\n",
      "[('upon', 0.5098751783370972), ('along', 0.33358269929885864), ('remainder', 0.33026906847953796), ('birthstone', 0.3300632834434509), ('hemisphere', 0.32836484909057617)]\n"
     ]
    }
   ],
   "source": [
    "print(model.wv.most_similar(positive=['true', 'off'], negative=['false'], topn=5))\n",
    "print(model.wv.most_similar(positive=['true', 'on'], negative=['false'], topn=5))\n",
    "# They don't work."
   ]
  },
  {
   "cell_type": "code",
   "execution_count": 100,
   "metadata": {
    "scrolled": true
   },
   "outputs": [
    {
     "name": "stdout",
     "output_type": "stream",
     "text": [
      "[('allowed', 0.6651010513305664), ('expected', 0.6147686243057251), ('unable', 0.5908665060997009), ('needed', 0.5803292989730835), ('permitted', 0.5530011653900146)]\n",
      "[('able', 0.7193394899368286), ('allowed', 0.645751953125), ('obliged', 0.6148971915245056), ('expected', 0.6061506867408752), ('willing', 0.6010260581970215)]\n"
     ]
    }
   ],
   "source": [
    "print(model.wv.most_similar(positive=['true', 'able'], negative=['false'], topn=5))\n",
    "print(model.wv.most_similar(positive=['true', 'unable'], negative=['false'], topn=5))\n",
    "# They work."
   ]
  },
  {
   "cell_type": "code",
   "execution_count": 101,
   "metadata": {
    "scrolled": true
   },
   "outputs": [
    {
     "name": "stdout",
     "output_type": "stream",
     "text": [
      "[('behind', 0.453363299369812), ('right', 0.4433320164680481), ('finished', 0.4282259941101074), ('moved', 0.426459938287735), ('rest', 0.4189785122871399)]\n",
      "[('left', 0.5457944869995117), ('position', 0.41442057490348816), ('rest', 0.40548062324523926), ('opposite', 0.404418408870697), ('equal', 0.40174880623817444)]\n"
     ]
    }
   ],
   "source": [
    "print(model.wv.most_similar(positive=['true', 'left'], negative=['false'], topn=5))\n",
    "print(model.wv.most_similar(positive=['true', 'right'], negative=['false'], topn=5))\n",
    "# They work."
   ]
  },
  {
   "cell_type": "code",
   "execution_count": 102,
   "metadata": {},
   "outputs": [
    {
     "name": "stdout",
     "output_type": "stream",
     "text": [
      "[('pale', 0.6582292318344116), ('brush', 0.6217256784439087), ('reddish', 0.6131107807159424), ('yellowish', 0.6015852093696594), ('greenish', 0.5950002670288086)]\n",
      "[('smooth', 0.6124532222747803), ('flat', 0.6121171712875366), ('narrow', 0.5518616437911987), ('swing', 0.5452947616577148), ('shape', 0.5358486175537109)]\n"
     ]
    }
   ],
   "source": [
    "print(model.wv.most_similar(positive=['true', 'dull'], negative=['false'], topn=5))\n",
    "print(model.wv.most_similar(positive=['true', 'sharp'], negative=['false'], topn=5))\n",
    "# They don't work."
   ]
  },
  {
   "cell_type": "code",
   "execution_count": 105,
   "metadata": {},
   "outputs": [
    {
     "name": "stdout",
     "output_type": "stream",
     "text": [
      "[('slow', 0.5445048213005066), ('hard', 0.5415023565292358), ('expensive', 0.5088605880737305), ('cheap', 0.4959425926208496), ('warm', 0.4801950752735138)]\n",
      "[('slowly', 0.5988355278968811), ('rapid', 0.5801844596862793), ('rapidly', 0.5766604542732239), ('fast', 0.5713185667991638), ('warm', 0.5517141819000244)]\n"
     ]
    }
   ],
   "source": [
    "print(model.wv.most_similar(positive=['true', 'fast'], negative=['false'], topn=5))\n",
    "print(model.wv.most_similar(positive=['true', 'slow'], negative=['false'], topn=5))\n",
    "# They work."
   ]
  },
  {
   "cell_type": "code",
   "execution_count": 106,
   "metadata": {
    "scrolled": true
   },
   "outputs": [
    {
     "name": "stdout",
     "output_type": "stream",
     "text": [
      "[('warm', 0.7162275314331055), ('dry', 0.7111853361129761), ('cool', 0.6606252789497375), ('hot', 0.6459536552429199), ('rain', 0.6110684871673584)]\n",
      "[('warm', 0.744910717010498), ('wet', 0.6971292495727539), ('cool', 0.6578608751296997), ('humid', 0.6565195918083191), ('temperate', 0.6565078496932983)]\n"
     ]
    }
   ],
   "source": [
    "print(model.wv.most_similar(positive=['true', 'wet'], negative=['false'], topn=5))\n",
    "print(model.wv.most_similar(positive=['true', 'dry'], negative=['false'], topn=5))\n",
    "# They work."
   ]
  },
  {
   "cell_type": "code",
   "execution_count": 109,
   "metadata": {
    "collapsed": true
   },
   "outputs": [
    {
     "name": "stdout",
     "output_type": "stream",
     "text": [
      "[('proud', 0.5684560537338257), ('collectivized', 0.5578513145446777), ('prosperous', 0.553817629814148), ('aware', 0.5275629162788391), ('supportive', 0.5226277709007263)]\n"
     ]
    },
    {
     "ename": "KeyError",
     "evalue": "\"word 'unwary' not in vocabulary\"",
     "output_type": "error",
     "traceback": [
      "\u001b[0;31m---------------------------------------------------------------------------\u001b[0m",
      "\u001b[0;31mKeyError\u001b[0m                                  Traceback (most recent call last)",
      "\u001b[0;32m<ipython-input-109-4c2133e761e8>\u001b[0m in \u001b[0;36m<module>\u001b[0;34m\u001b[0m\n\u001b[1;32m      1\u001b[0m \u001b[0mprint\u001b[0m\u001b[0;34m(\u001b[0m\u001b[0mmodel\u001b[0m\u001b[0;34m.\u001b[0m\u001b[0mwv\u001b[0m\u001b[0;34m.\u001b[0m\u001b[0mmost_similar\u001b[0m\u001b[0;34m(\u001b[0m\u001b[0mpositive\u001b[0m\u001b[0;34m=\u001b[0m\u001b[0;34m[\u001b[0m\u001b[0;34m'true'\u001b[0m\u001b[0;34m,\u001b[0m \u001b[0;34m'wary'\u001b[0m\u001b[0;34m]\u001b[0m\u001b[0;34m,\u001b[0m \u001b[0mnegative\u001b[0m\u001b[0;34m=\u001b[0m\u001b[0;34m[\u001b[0m\u001b[0;34m'false'\u001b[0m\u001b[0;34m]\u001b[0m\u001b[0;34m,\u001b[0m \u001b[0mtopn\u001b[0m\u001b[0;34m=\u001b[0m\u001b[0;36m5\u001b[0m\u001b[0;34m)\u001b[0m\u001b[0;34m)\u001b[0m\u001b[0;34m\u001b[0m\u001b[0;34m\u001b[0m\u001b[0m\n\u001b[0;32m----> 2\u001b[0;31m \u001b[0mprint\u001b[0m\u001b[0;34m(\u001b[0m\u001b[0mmodel\u001b[0m\u001b[0;34m.\u001b[0m\u001b[0mwv\u001b[0m\u001b[0;34m.\u001b[0m\u001b[0mmost_similar\u001b[0m\u001b[0;34m(\u001b[0m\u001b[0mpositive\u001b[0m\u001b[0;34m=\u001b[0m\u001b[0;34m[\u001b[0m\u001b[0;34m'true'\u001b[0m\u001b[0;34m,\u001b[0m \u001b[0;34m'unwary'\u001b[0m\u001b[0;34m]\u001b[0m\u001b[0;34m,\u001b[0m \u001b[0mnegative\u001b[0m\u001b[0;34m=\u001b[0m\u001b[0;34m[\u001b[0m\u001b[0;34m'false'\u001b[0m\u001b[0;34m]\u001b[0m\u001b[0;34m,\u001b[0m \u001b[0mtopn\u001b[0m\u001b[0;34m=\u001b[0m\u001b[0;36m5\u001b[0m\u001b[0;34m)\u001b[0m\u001b[0;34m)\u001b[0m\u001b[0;34m\u001b[0m\u001b[0;34m\u001b[0m\u001b[0m\n\u001b[0m",
      "\u001b[0;32m/anaconda3/lib/python3.6/site-packages/gensim/models/keyedvectors.py\u001b[0m in \u001b[0;36mmost_similar\u001b[0;34m(self, positive, negative, topn, restrict_vocab, indexer)\u001b[0m\n\u001b[1;32m    363\u001b[0m                 \u001b[0mmean\u001b[0m\u001b[0;34m.\u001b[0m\u001b[0mappend\u001b[0m\u001b[0;34m(\u001b[0m\u001b[0mweight\u001b[0m \u001b[0;34m*\u001b[0m \u001b[0mword\u001b[0m\u001b[0;34m)\u001b[0m\u001b[0;34m\u001b[0m\u001b[0;34m\u001b[0m\u001b[0m\n\u001b[1;32m    364\u001b[0m             \u001b[0;32melse\u001b[0m\u001b[0;34m:\u001b[0m\u001b[0;34m\u001b[0m\u001b[0;34m\u001b[0m\u001b[0m\n\u001b[0;32m--> 365\u001b[0;31m                 \u001b[0mmean\u001b[0m\u001b[0;34m.\u001b[0m\u001b[0mappend\u001b[0m\u001b[0;34m(\u001b[0m\u001b[0mweight\u001b[0m \u001b[0;34m*\u001b[0m \u001b[0mself\u001b[0m\u001b[0;34m.\u001b[0m\u001b[0mword_vec\u001b[0m\u001b[0;34m(\u001b[0m\u001b[0mword\u001b[0m\u001b[0;34m,\u001b[0m \u001b[0muse_norm\u001b[0m\u001b[0;34m=\u001b[0m\u001b[0;32mTrue\u001b[0m\u001b[0;34m)\u001b[0m\u001b[0;34m)\u001b[0m\u001b[0;34m\u001b[0m\u001b[0;34m\u001b[0m\u001b[0m\n\u001b[0m\u001b[1;32m    366\u001b[0m                 \u001b[0;32mif\u001b[0m \u001b[0mword\u001b[0m \u001b[0;32min\u001b[0m \u001b[0mself\u001b[0m\u001b[0;34m.\u001b[0m\u001b[0mvocab\u001b[0m\u001b[0;34m:\u001b[0m\u001b[0;34m\u001b[0m\u001b[0;34m\u001b[0m\u001b[0m\n\u001b[1;32m    367\u001b[0m                     \u001b[0mall_words\u001b[0m\u001b[0;34m.\u001b[0m\u001b[0madd\u001b[0m\u001b[0;34m(\u001b[0m\u001b[0mself\u001b[0m\u001b[0;34m.\u001b[0m\u001b[0mvocab\u001b[0m\u001b[0;34m[\u001b[0m\u001b[0mword\u001b[0m\u001b[0;34m]\u001b[0m\u001b[0;34m.\u001b[0m\u001b[0mindex\u001b[0m\u001b[0;34m)\u001b[0m\u001b[0;34m\u001b[0m\u001b[0;34m\u001b[0m\u001b[0m\n",
      "\u001b[0;32m/anaconda3/lib/python3.6/site-packages/gensim/models/keyedvectors.py\u001b[0m in \u001b[0;36mword_vec\u001b[0;34m(self, word, use_norm)\u001b[0m\n\u001b[1;32m    272\u001b[0m             \u001b[0;32mreturn\u001b[0m \u001b[0mresult\u001b[0m\u001b[0;34m\u001b[0m\u001b[0;34m\u001b[0m\u001b[0m\n\u001b[1;32m    273\u001b[0m         \u001b[0;32melse\u001b[0m\u001b[0;34m:\u001b[0m\u001b[0;34m\u001b[0m\u001b[0;34m\u001b[0m\u001b[0m\n\u001b[0;32m--> 274\u001b[0;31m             \u001b[0;32mraise\u001b[0m \u001b[0mKeyError\u001b[0m\u001b[0;34m(\u001b[0m\u001b[0;34m\"word '%s' not in vocabulary\"\u001b[0m \u001b[0;34m%\u001b[0m \u001b[0mword\u001b[0m\u001b[0;34m)\u001b[0m\u001b[0;34m\u001b[0m\u001b[0;34m\u001b[0m\u001b[0m\n\u001b[0m\u001b[1;32m    275\u001b[0m \u001b[0;34m\u001b[0m\u001b[0m\n\u001b[1;32m    276\u001b[0m     \u001b[0;32mdef\u001b[0m \u001b[0mget_vector\u001b[0m\u001b[0;34m(\u001b[0m\u001b[0mself\u001b[0m\u001b[0;34m,\u001b[0m \u001b[0mword\u001b[0m\u001b[0;34m)\u001b[0m\u001b[0;34m:\u001b[0m\u001b[0;34m\u001b[0m\u001b[0;34m\u001b[0m\u001b[0m\n",
      "\u001b[0;31mKeyError\u001b[0m: \"word 'unwary' not in vocabulary\""
     ]
    }
   ],
   "source": [
    "print(model.wv.most_similar(positive=['true', 'wary'], negative=['false'], topn=5))\n",
    "print(model.wv.most_similar(positive=['true', 'unwary'], negative=['false'], topn=5))\n",
    "# They don't work."
   ]
  },
  {
   "cell_type": "code",
   "execution_count": 110,
   "metadata": {
    "scrolled": true
   },
   "outputs": [
    {
     "name": "stdout",
     "output_type": "stream",
     "text": [
      "[('rest', 0.4066166281700134), ('older', 0.4046453833580017), ('prosperous', 0.33167895674705505), ('tallest', 0.3310681879520416), ('sixteen', 0.3301098048686981)]\n",
      "[('sunbury', 0.5670011043548584), ('lland', 0.408953458070755), ('equatorial', 0.33090633153915405), ('rest', 0.33080658316612244), ('brooklyn', 0.31130558252334595)]\n"
     ]
    }
   ],
   "source": [
    "print(model.wv.most_similar(positive=['true', 'old'], negative=['false'], topn=5))\n",
    "print(model.wv.most_similar(positive=['true', 'new'], negative=['false'], topn=5))\n",
    "# They don't work."
   ]
  },
  {
   "cell_type": "code",
   "execution_count": 111,
   "metadata": {
    "scrolled": true
   },
   "outputs": [
    {
     "name": "stdout",
     "output_type": "stream",
     "text": [
      "[('difficult', 0.609442949295044), ('hard', 0.6027782559394836), ('useful', 0.5553319454193115), ('suitable', 0.5550965070724487), ('easier', 0.535790205001831)]\n",
      "[('admonition', 0.5655000805854797), ('altercation', 0.509218156337738), ('enthusiastic', 0.5059729218482971), ('enmity', 0.5001391768455505), ('entrepot', 0.48981577157974243)]\n"
     ]
    }
   ],
   "source": [
    "print(model.wv.most_similar(positive=['true', 'easy'], negative=['false'], topn=5))\n",
    "print(model.wv.most_similar(positive=['true', 'uneasy'], negative=['false'], topn=5))\n",
    "# They don't work."
   ]
  },
  {
   "cell_type": "code",
   "execution_count": 112,
   "metadata": {},
   "outputs": [
    {
     "name": "stdout",
     "output_type": "stream",
     "text": [
      "[('thick', 0.6935212016105652), ('smooth', 0.6835362911224365), ('dense', 0.6136573553085327), ('conical', 0.6126717925071716), ('bright', 0.6045223474502563)]\n",
      "[('chocolate', 0.5578379034996033), ('saturated', 0.5537335872650146), ('seed', 0.5518561005592346), ('grains', 0.5477852821350098), ('fruit', 0.541271448135376)]\n"
     ]
    }
   ],
   "source": [
    "print(model.wv.most_similar(positive=['true', 'thin'], negative=['false'], topn=5))\n",
    "print(model.wv.most_similar(positive=['true', 'fat'], negative=['false'], topn=5))\n",
    "# They don't work."
   ]
  },
  {
   "cell_type": "code",
   "execution_count": 113,
   "metadata": {},
   "outputs": [
    {
     "name": "stdout",
     "output_type": "stream",
     "text": [
      "[('vedic', 0.47292113304138184), ('kinship', 0.4668136239051819), ('liturgical', 0.45401090383529663), ('primitive', 0.4538821578025818), ('mahayana', 0.4455050826072693)]\n",
      "[('intercourse', 0.6151033639907837), ('breasts', 0.5885130167007446), ('sex', 0.5683459043502808), ('heterosexual', 0.5652549266815186), ('genital', 0.557353138923645)]\n"
     ]
    }
   ],
   "source": [
    "print(model.wv.most_similar(positive=['true', 'oral'], negative=['false'], topn=5))\n",
    "print(model.wv.most_similar(positive=['true', 'anal'], negative=['false'], topn=5))\n",
    "# They don't work."
   ]
  },
  {
   "cell_type": "code",
   "execution_count": 116,
   "metadata": {},
   "outputs": [
    {
     "name": "stdout",
     "output_type": "stream",
     "text": [
      "[('scrimmage', 0.5838316679000854), ('ball', 0.5580489635467529), ('kick', 0.5517784357070923), ('cue', 0.5267752408981323), ('outfield', 0.5205965042114258)]\n",
      "[('good', 0.4729844927787781), ('biggest', 0.4125209152698517), ('busiest', 0.4047951102256775), ('commodity', 0.40328291058540344), ('sport', 0.3923988342285156)]\n"
     ]
    }
   ],
   "source": [
    "print(model.wv.most_similar(positive=['true', 'foul'], negative=['false'], topn=5))\n",
    "print(model.wv.most_similar(positive=['true', 'fair'], negative=['false'], topn=5))\n",
    "# They don't work."
   ]
  },
  {
   "cell_type": "code",
   "execution_count": 118,
   "metadata": {},
   "outputs": [
    {
     "name": "stdout",
     "output_type": "stream",
     "text": [
      "[('bigger', 0.6355832815170288), ('slower', 0.6136892437934875), ('weaker', 0.6073058843612671), ('more', 0.6052075624465942), ('taller', 0.6031344532966614)]\n",
      "[('less', 0.6400924324989319), ('bigger', 0.6017016172409058), ('larger', 0.546161413192749), ('taller', 0.5457249283790588), ('slower', 0.5389043688774109)]\n"
     ]
    }
   ],
   "source": [
    "print(model.wv.most_similar(positive=['true', 'less'], negative=['false'], topn=5))\n",
    "print(model.wv.most_similar(positive=['true', 'more'], negative=['false'], topn=5))\n",
    "# They work."
   ]
  },
  {
   "cell_type": "code",
   "execution_count": 120,
   "metadata": {},
   "outputs": [
    {
     "name": "stdout",
     "output_type": "stream",
     "text": [
      "[('aspect', 0.5637063384056091), ('sort', 0.5486558675765991), ('sense', 0.51848304271698), ('purpose', 0.5061277151107788), ('characteristic', 0.5006898641586304)]\n",
      "[('unamplified', 0.6024770736694336), ('unattainable', 0.5823825001716614), ('advisable', 0.5811722874641418), ('catered', 0.5723691582679749), ('marketable', 0.5704941749572754)]\n"
     ]
    }
   ],
   "source": [
    "print(model.wv.most_similar(positive=['true', 'kind'], negative=['false'], topn=5))\n",
    "print(model.wv.most_similar(positive=['true', 'unkind'], negative=['false'], topn=5))\n",
    "# They don't work."
   ]
  },
  {
   "cell_type": "code",
   "execution_count": 121,
   "metadata": {},
   "outputs": [
    {
     "name": "stdout",
     "output_type": "stream",
     "text": [
      "[('pulled', 0.6352368593215942), ('spun', 0.6213559508323669), ('locked', 0.6018533706665039), ('stepped', 0.5999246835708618), ('washed', 0.5959707498550415)]\n",
      "[('closed', 0.4559817314147949), ('active', 0.3998740613460541), ('destination', 0.39479851722717285), ('competitive', 0.36659640073776245), ('visible', 0.3657407760620117)]\n"
     ]
    }
   ],
   "source": [
    "print(model.wv.most_similar(positive=['true', 'shut'], negative=['false'], topn=5))\n",
    "print(model.wv.most_similar(positive=['true', 'open'], negative=['false'], topn=5))\n",
    "# They don't work."
   ]
  },
  {
   "cell_type": "code",
   "execution_count": 123,
   "metadata": {},
   "outputs": [
    {
     "name": "stdout",
     "output_type": "stream",
     "text": [
      "[('paying', 0.6179790496826172), ('allowed', 0.5579475164413452), ('sold', 0.5573152303695679), ('offered', 0.5110698938369751), ('traded', 0.510193407535553)]\n",
      "[('adequate', 0.44982272386550903), ('profitable', 0.44888919591903687), ('needed', 0.4389570355415344), ('marginal', 0.4376398026943207), ('adjusted', 0.4281972646713257)]\n"
     ]
    }
   ],
   "source": [
    "print(model.wv.most_similar(positive=['true', 'paid'], negative=['false'], topn=5))\n",
    "print(model.wv.most_similar(positive=['true', 'unpaid'], negative=['false'], topn=5))\n",
    "# They don't work."
   ]
  },
  {
   "cell_type": "code",
   "execution_count": 124,
   "metadata": {},
   "outputs": [
    {
     "name": "stdout",
     "output_type": "stream",
     "text": [
      "[('singing', 0.5544833540916443), ('nails', 0.5509591698646545), ('rhythm', 0.5503361225128174), ('swing', 0.5499574542045593), ('blues', 0.5427521467208862)]\n",
      "[('fruit', 0.6143836975097656), ('chocolate', 0.6072301864624023), ('grass', 0.6022311449050903), ('thick', 0.5969153642654419), ('baked', 0.5949023365974426)]\n"
     ]
    }
   ],
   "source": [
    "print(model.wv.most_similar(positive=['true', 'loud'], negative=['false'], topn=5))\n",
    "print(model.wv.most_similar(positive=['true', 'soft'], negative=['false'], topn=5))\n",
    "# They don't work."
   ]
  },
  {
   "cell_type": "code",
   "execution_count": 125,
   "metadata": {},
   "outputs": [
    {
     "name": "stdout",
     "output_type": "stream",
     "text": [
      "[('warm', 0.5615631341934204), ('narrow', 0.5596134662628174), ('fertile', 0.5482147932052612), ('bright', 0.5351710319519043), ('visible', 0.527207612991333)]\n",
      "[('fertile', 0.712052583694458), ('steep', 0.6809669733047485), ('terrain', 0.6783096790313721), ('rugged', 0.6740635633468628), ('belt', 0.6720250844955444)]\n"
     ]
    }
   ],
   "source": [
    "print(model.wv.most_similar(positive=['true', 'deep'], negative=['false'], topn=5))\n",
    "print(model.wv.most_similar(positive=['true', 'shallow'], negative=['false'], topn=5))\n",
    "# They don't work."
   ]
  },
  {
   "cell_type": "code",
   "execution_count": 126,
   "metadata": {
    "scrolled": true
   },
   "outputs": [
    {
     "name": "stdout",
     "output_type": "stream",
     "text": [
      "[('female', 0.6882856488227844), ('adult', 0.5255708694458008), ('females', 0.5091179609298706), ('males', 0.49762389063835144), ('women', 0.48309826850891113)]\n",
      "[('male', 0.6847879886627197), ('adult', 0.49807581305503845), ('males', 0.4849594831466675), ('females', 0.47675207257270813), ('women', 0.46603134274482727)]\n"
     ]
    }
   ],
   "source": [
    "print(model.wv.most_similar(positive=['true', 'male'], negative=['false'], topn=5))\n",
    "print(model.wv.most_similar(positive=['true', 'female'], negative=['false'], topn=5))\n",
    "# They work."
   ]
  },
  {
   "cell_type": "code",
   "execution_count": 129,
   "metadata": {
    "scrolled": true
   },
   "outputs": [
    {
     "name": "stdout",
     "output_type": "stream",
     "text": [
      "[('back', 0.5799661874771118), ('off', 0.5646575689315796), ('out', 0.5261075496673584), ('away', 0.5168939828872681), ('forward', 0.4725034236907959)]\n",
      "[('off', 0.4289344549179077), ('fastest', 0.42545241117477417), ('down', 0.4184672236442566), ('back', 0.40150773525238037), ('sail', 0.3678373098373413)]\n"
     ]
    }
   ],
   "source": [
    "print(model.wv.most_similar(positive=['true', 'down'], negative=['false'], topn=5))\n",
    "print(model.wv.most_similar(positive=['true', 'up'], negative=['false'], topn=5))\n",
    "# They don't work."
   ]
  },
  {
   "cell_type": "code",
   "execution_count": 132,
   "metadata": {
    "scrolled": true
   },
   "outputs": [
    {
     "name": "stdout",
     "output_type": "stream",
     "text": [
      "[('closed', 0.4559817314147949), ('active', 0.3998740613460541), ('destination', 0.39479851722717285), ('competitive', 0.36659640073776245), ('visible', 0.3657407760620117)]\n",
      "[('completed', 0.4987200200557709), ('situated', 0.48128706216812134), ('opened', 0.47625109553337097), ('located', 0.473896324634552), ('positioned', 0.4738895297050476)]\n"
     ]
    }
   ],
   "source": [
    "print(model.wv.most_similar(positive=['true', 'open'], negative=['false'], topn=5))\n",
    "print(model.wv.most_similar(positive=['true', 'closed'], negative=['false'], topn=5))\n",
    "# They work."
   ]
  },
  {
   "cell_type": "code",
   "execution_count": 133,
   "metadata": {},
   "outputs": [
    {
     "name": "stdout",
     "output_type": "stream",
     "text": [
      "[('educated', 0.517560601234436), ('practicing', 0.5000430345535278), ('gifted', 0.4848789870738983), ('preschool', 0.45310303568840027), ('gymnasium', 0.4416031241416931)]\n",
      "[('moment', 0.5095781087875366), ('seeing', 0.49415263533592224), ('happiness', 0.4736557602882385), ('anger', 0.46640971302986145), ('dying', 0.4598044157028198)]\n"
     ]
    }
   ],
   "source": [
    "print(model.wv.most_similar(positive=['true', 'deaf'], negative=['false'], topn=5))\n",
    "print(model.wv.most_similar(positive=['true', 'hearing'], negative=['false'], topn=5))\n",
    "# They don't work."
   ]
  },
  {
   "cell_type": "code",
   "execution_count": 134,
   "metadata": {
    "scrolled": true
   },
   "outputs": [
    {
     "name": "stdout",
     "output_type": "stream",
     "text": [
      "[('low', 0.503170371055603), ('good', 0.4978342056274414), ('decent', 0.4902666509151459), ('declining', 0.48551666736602783), ('fragile', 0.4851675033569336)]\n",
      "[('flourishing', 0.5179002285003662), ('abundant', 0.5123258829116821), ('fertile', 0.5120077133178711), ('prosperous', 0.5005505084991455), ('landscape', 0.4898560345172882)]\n"
     ]
    }
   ],
   "source": [
    "print(model.wv.most_similar(positive=['true', 'poor'], negative=['false'], topn=5))\n",
    "print(model.wv.most_similar(positive=['true', 'rich'], negative=['false'], topn=5))\n",
    "# They don't work."
   ]
  },
  {
   "cell_type": "code",
   "execution_count": 135,
   "metadata": {
    "scrolled": true
   },
   "outputs": [
    {
     "name": "stdout",
     "output_type": "stream",
     "text": [
      "[('pinches', 0.5475078225135803), ('screwed', 0.5386281609535217), ('woke', 0.5202968716621399), ('narmada', 0.5106974840164185), ('wakes', 0.5102407336235046)]\n",
      "[('cultivable', 0.6365483999252319), ('vindhya', 0.6348831057548523), ('gyration', 0.6196253299713135), ('commercialism', 0.6081780195236206), ('giovani', 0.6061456799507141)]\n"
     ]
    }
   ],
   "source": [
    "print(model.wv.most_similar(positive=['true', 'tidy'], negative=['false'], topn=5))\n",
    "print(model.wv.most_similar(positive=['true', 'untidy'], negative=['false'], topn=5))\n",
    "# They don't work."
   ]
  },
  {
   "cell_type": "code",
   "execution_count": 140,
   "metadata": {},
   "outputs": [
    {
     "name": "stdout",
     "output_type": "stream",
     "text": [
      "[('warm', 0.6687877178192139), ('humid', 0.6259670257568359), ('temperate', 0.6193848848342896), ('precipitation', 0.6109758615493774), ('winters', 0.6096853017807007)]\n",
      "[('apparent', 0.559769868850708), ('evident', 0.5436292886734009), ('exciting', 0.5322338938713074), ('noticeable', 0.5292431116104126), ('economical', 0.5155876278877258)]\n"
     ]
    }
   ],
   "source": [
    "print(model.wv.most_similar(positive=['true', 'mild'], negative=['false'], topn=5))\n",
    "print(model.wv.most_similar(positive=['true', 'intense'], negative=['false'], topn=5))\n",
    "# They don't work."
   ]
  },
  {
   "cell_type": "code",
   "execution_count": 139,
   "metadata": {},
   "outputs": [
    {
     "name": "stdout",
     "output_type": "stream",
     "text": [
      "[('slowly', 0.5988355278968811), ('rapid', 0.5801844596862793), ('rapidly', 0.5766604542732239), ('fast', 0.5713185667991638), ('warm', 0.5517141819000244)]\n",
      "[('slow', 0.5445048213005066), ('hard', 0.5415023565292358), ('expensive', 0.5088605880737305), ('cheap', 0.4959425926208496), ('warm', 0.4801950752735138)]\n"
     ]
    }
   ],
   "source": [
    "print(model.wv.most_similar(positive=['true', 'slow'], negative=['false'], topn=5))\n",
    "print(model.wv.most_similar(positive=['true', 'fast'], negative=['false'], topn=5))\n",
    "# They work."
   ]
  },
  {
   "cell_type": "code",
   "execution_count": 138,
   "metadata": {},
   "outputs": [
    {
     "name": "stdout",
     "output_type": "stream",
     "text": [
      "[('short', 0.5593019723892212), ('longest', 0.502764105796814), ('narrow', 0.42008310556411743), ('span', 0.40525054931640625), ('just', 0.39088377356529236)]\n",
      "[('long', 0.5142166614532471), ('longest', 0.4728323817253113), ('shortest', 0.42491406202316284), ('narrow', 0.39554786682128906), ('length', 0.38527071475982666)]\n"
     ]
    }
   ],
   "source": [
    "print(model.wv.most_similar(positive=['true', 'long'], negative=['false'], topn=5))\n",
    "print(model.wv.most_similar(positive=['true', 'short'], negative=['false'], topn=5))\n",
    "# They don't work."
   ]
  }
 ],
 "metadata": {
  "kernelspec": {
   "display_name": "Python 3",
   "language": "python",
   "name": "python3"
  },
  "language_info": {
   "codemirror_mode": {
    "name": "ipython",
    "version": 3
   },
   "file_extension": ".py",
   "mimetype": "text/x-python",
   "name": "python",
   "nbconvert_exporter": "python",
   "pygments_lexer": "ipython3",
   "version": "3.6.7"
  }
 },
 "nbformat": 4,
 "nbformat_minor": 2
}
