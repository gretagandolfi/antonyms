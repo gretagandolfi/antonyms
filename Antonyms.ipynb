{
 "cells": [
  {
   "cell_type": "markdown",
   "metadata": {},
   "source": [
    "# Antonyms "
   ]
  },
  {
   "cell_type": "markdown",
   "metadata": {},
   "source": [
    "## 1. List fo Antonyms \n",
    "Here I create a list of antonyms starting form WordNet data. "
   ]
  },
  {
   "cell_type": "code",
   "execution_count": 1,
   "metadata": {},
   "outputs": [],
   "source": [
    "list_of_antonyms=[]\n",
    "from nltk.corpus import wordnet as wn\n",
    "for i in wn.all_synsets():\n",
    "    if i.pos() in ['a', 's']: \n",
    "        for j in i.lemmas(): \n",
    "            if j.antonyms(): \n",
    "                (j.name(), j.antonyms()[0].name()) and list_of_antonyms.append((j.name(), j.antonyms()[0].name()))\n"
   ]
  },
  {
   "cell_type": "code",
   "execution_count": 2,
   "metadata": {},
   "outputs": [
    {
     "data": {
      "text/plain": [
       "[('able', 'unable'),\n",
       " ('unable', 'able'),\n",
       " ('abaxial', 'adaxial'),\n",
       " ('adaxial', 'abaxial'),\n",
       " ('acroscopic', 'basiscopic'),\n",
       " ('basiscopic', 'acroscopic'),\n",
       " ('abducent', 'adducent'),\n",
       " ('adducent', 'abducent'),\n",
       " ('nascent', 'dying'),\n",
       " ('dying', 'nascent')]"
      ]
     },
     "execution_count": 2,
     "metadata": {},
     "output_type": "execute_result"
    }
   ],
   "source": [
    "list_of_antonyms[:10]"
   ]
  },
  {
   "cell_type": "markdown",
   "metadata": {},
   "source": [
    "I chose only the words that have less than 5 letters. They are more frequent and easier to understand for the speakers. "
   ]
  },
  {
   "cell_type": "code",
   "execution_count": 3,
   "metadata": {},
   "outputs": [],
   "source": [
    "list_of_short_couple = []\n",
    "for i in list_of_antonyms:\n",
    "    if len(i[0]) < 5:\n",
    "        list_of_short_couple.append(i)\n",
    "    else:\n",
    "        pass"
   ]
  },
  {
   "cell_type": "markdown",
   "metadata": {},
   "source": [
    "I selected randomly 50 of them."
   ]
  },
  {
   "cell_type": "code",
   "execution_count": 4,
   "metadata": {},
   "outputs": [
    {
     "data": {
      "text/plain": [
       "[('raw', 'cooked'),\n",
       " ('high', 'low'),\n",
       " ('evil', 'good'),\n",
       " ('dull', 'bright'),\n",
       " ('calm', 'stormy'),\n",
       " ('hard', 'soft'),\n",
       " ('thin', 'fat'),\n",
       " ('loud', 'soft'),\n",
       " ('paid', 'unpaid'),\n",
       " ('far', 'near')]"
      ]
     },
     "execution_count": 4,
     "metadata": {},
     "output_type": "execute_result"
    }
   ],
   "source": [
    "import random\n",
    "random.sample(list_of_short_couple, 50)[:10]"
   ]
  },
  {
   "cell_type": "markdown",
   "metadata": {},
   "source": [
    "## 2. Semantic Space and Analogies"
   ]
  },
  {
   "cell_type": "code",
   "execution_count": 11,
   "metadata": {},
   "outputs": [
    {
     "name": "stdout",
     "output_type": "stream",
     "text": [
      "[==================================================] 100.0% 31.6/31.6MB downloaded\n"
     ]
    }
   ],
   "source": [
    "from gensim.models import word2vec\n",
    "import gensim.downloader as api\n",
    "from gensim.models import Word2Vec\n",
    "\n",
    "dataset = api.load(\"text8\")  # load dataset as iterable\n",
    "model = Word2Vec(dataset) "
   ]
  },
  {
   "cell_type": "code",
   "execution_count": 1,
   "metadata": {},
   "outputs": [],
   "source": [
    "sentences = word2vec.Text8Corpus('/Users/gretagandolfi/Desktop/text8')\n",
    "# train the skip-gram model; default window=5\n",
    "model = word2vec.Word2Vec(sentences, size=200)"
   ]
  },
  {
   "cell_type": "code",
   "execution_count": 12,
   "metadata": {},
   "outputs": [],
   "source": [
    "list_of_binary_antonyms_from_test = [('true', 'false'), ('in', 'out'), ('alive', 'dead')]"
   ]
  },
  {
   "cell_type": "code",
   "execution_count": 13,
   "metadata": {},
   "outputs": [],
   "source": [
    "list_of_binary_antonyms_from_wikiandAina = [('present' , 'absent'), ('uniform', 'multiform'), ('single','compound'), ('single' , 'multiple'), ('foreign' , 'native'), ('optional' , 'obligatory'), ('separate' , 'joint') ,('religious' , 'secular') ,('private' , 'public') ,('true' , 'false') ,('alive' , 'dead' ) ,('blind' , 'sighted') ,('innocent' , 'guilty') ,('other', 'same'), ('mortal', 'immortal'),('occupied' , 'vacant')]"
   ]
  },
  {
   "cell_type": "markdown",
   "metadata": {},
   "source": [
    "### Computation of analogies between pairs of binary antonyms"
   ]
  },
  {
   "cell_type": "code",
   "execution_count": 38,
   "metadata": {},
   "outputs": [
    {
     "data": {
      "text/plain": [
       "[('present', 'absent'),\n",
       " ('uniform', 'multiform'),\n",
       " ('single', 'compound'),\n",
       " ('single', 'multiple'),\n",
       " ('foreign', 'native'),\n",
       " ('optional', 'obligatory'),\n",
       " ('separate', 'joint'),\n",
       " ('religious', 'secular'),\n",
       " ('private', 'public'),\n",
       " ('true', 'false'),\n",
       " ('alive', 'dead'),\n",
       " ('blind', 'sighted'),\n",
       " ('innocent', 'guilty'),\n",
       " ('other', 'same'),\n",
       " ('mortal', 'immortal'),\n",
       " ('occupied', 'vacant')]"
      ]
     },
     "execution_count": 38,
     "metadata": {},
     "output_type": "execute_result"
    }
   ],
   "source": [
    "list_of_binary_antonyms_from_wikiandAina "
   ]
  },
  {
   "cell_type": "code",
   "execution_count": 39,
   "metadata": {},
   "outputs": [
    {
     "name": "stdout",
     "output_type": "stream",
     "text": [
      "secular religious\n",
      "secular religious\n",
      "public private\n",
      "dead alive\n"
     ]
    }
   ],
   "source": [
    "for i in list_of_binary_antonyms_from_wikiandAina:\n",
    "    if i[1] in [i[0] for i in model.wv.most_similar(positive=['true', i[0]], negative=['false'], topn=5)]:\n",
    "        print(i[1],i[0])\n",
    "    else:\n",
    "        pass\n",
    "    try:\n",
    "        if i[0] in [i[0] for i in model.wv.most_similar(positive=['true', i[1]], negative=['false'], topn=5)]:\n",
    "            print(i[1],i[0])\n",
    "        else:\n",
    "            pass\n",
    "    except KeyError: \n",
    "        pass"
   ]
  },
  {
   "cell_type": "markdown",
   "metadata": {},
   "source": [
    "Far from my expectations, only for three combinations, the analogy works. \n",
    "In the case of 'secular' and 'religious', the analogy works in both directions, this is not the case for the other couples."
   ]
  },
  {
   "cell_type": "markdown",
   "metadata": {},
   "source": [
    "### Computation of analogies between pairs of binary antonyms"
   ]
  },
  {
   "cell_type": "code",
   "execution_count": 42,
   "metadata": {},
   "outputs": [],
   "source": [
    "list_of_graded_antonyms_from_test = [[('out', 'safe'), ('off', 'on'), ('able', 'unable'), ('left', 'right'), ('dull', 'sharp'), ('fast', 'slow'), ('wet', 'dry'), ('late', 'early'), ('wary', 'unwary'), ('old', 'new'), ('easy', 'uneasy'), ('thin', 'fat'), ('oral', 'anal'), ('foul', 'fair'), ('less', 'more'), ('kind', 'unkind'), ('shut', 'open'), ('paid', 'unpaid'), ('loud', 'soft'), ('deep', 'shallow'), ('male', 'female'), ('down', 'up'), ('open', 'closed'), ('deaf', 'hearing'), ('poor', 'rich'), ('tidy', 'untidy'), ('mild', 'intense'), ('slow', 'fast'), ('long', 'short')]]"
   ]
  },
  {
   "cell_type": "code",
   "execution_count": 43,
   "metadata": {},
   "outputs": [
    {
     "name": "stdout",
     "output_type": "stream",
     "text": [
      "[[('out', 'safe'), ('off', 'on'), ('able', 'unable'), ('left', 'right'), ('dull', 'sharp'), ('fast', 'slow'), ('wet', 'dry'), ('late', 'early'), ('wary', 'unwary'), ('old', 'new'), ('easy', 'uneasy'), ('thin', 'fat'), ('oral', 'anal'), ('foul', 'fair'), ('less', 'more'), ('kind', 'unkind'), ('shut', 'open'), ('paid', 'unpaid'), ('loud', 'soft'), ('deep', 'shallow'), ('male', 'female'), ('down', 'up'), ('open', 'closed'), ('deaf', 'hearing'), ('poor', 'rich'), ('tidy', 'untidy'), ('mild', 'intense'), ('slow', 'fast'), ('long', 'short')]]\n"
     ]
    }
   ],
   "source": [
    "print(list_of_graded_antonyms_from_test)"
   ]
  },
  {
   "cell_type": "code",
   "execution_count": 48,
   "metadata": {},
   "outputs": [
    {
     "name": "stdout",
     "output_type": "stream",
     "text": [
      "unable able\n",
      "unable able\n",
      "right left\n",
      "slow fast\n",
      "slow fast\n",
      "dry wet\n",
      "dry wet\n",
      "early late\n",
      "early late\n",
      "new old\n",
      "new old\n",
      "more less\n",
      "more less\n",
      "female male\n",
      "female male\n",
      "up down\n",
      "up down\n",
      "closed open\n",
      "fast slow\n",
      "fast slow\n",
      "short long\n",
      "short long\n"
     ]
    }
   ],
   "source": [
    "for i in list_of_graded_antonyms_from_test[0]:\n",
    "    if i[1] in [i[0] for i in model.wv.most_similar(positive=['true', i[0]], negative=['false'], topn=5)]:\n",
    "        print(i[1],i[0])\n",
    "    else:\n",
    "        pass\n",
    "    try:\n",
    "        if i[0] in [i[0] for i in model.wv.most_similar(positive=['true', i[1]], negative=['false'], topn=5)]:\n",
    "            print(i[1],i[0])\n",
    "        else:\n",
    "            pass\n",
    "    except KeyError: \n",
    "        pass"
   ]
  }
 ],
 "metadata": {
  "kernelspec": {
   "display_name": "Python 3",
   "language": "python",
   "name": "python3"
  },
  "language_info": {
   "codemirror_mode": {
    "name": "ipython",
    "version": 3
   },
   "file_extension": ".py",
   "mimetype": "text/x-python",
   "name": "python",
   "nbconvert_exporter": "python",
   "pygments_lexer": "ipython3",
   "version": "3.6.7"
  }
 },
 "nbformat": 4,
 "nbformat_minor": 2
}
